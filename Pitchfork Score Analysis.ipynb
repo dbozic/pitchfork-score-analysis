{
 "cells": [
  {
   "cell_type": "markdown",
   "metadata": {},
   "source": [
    "  # Pitchfork Scores Analysis"
   ]
  },
  {
   "cell_type": "markdown",
   "metadata": {},
   "source": [
    "Here, I explore and visualize Pitchfork Magazine's scores using the dataset obtained from Kaggle in SQLite format. The .csv version presented here has been pre-processed through R.  \n",
    "\n",
    "* **Part 1: Data Processing**: understanding the dataset and merging the datasets.\n",
    "\n",
    "    -  Packages and Data Upload\n",
    "    -  Understanding the dataset\n",
    "    -  Dropping unnecessary variables\n",
    "    -  Cleaning NULL values\n",
    "* **Part 2: Data Visualization / Descriptive Statistics**: Extracting insights by visualizing relationships between variables.\n",
    "* **Part 3: Data Visualization / Inferential Statisics**: Extracting insights by visualizing relationships between variables. \n",
    "* **Part 4: Data Extraction**: Extracting particular portions of the data (such as, which albums got perfect scores?) based on some questions I had on Pitchfork editorial opinion. "
   ]
  },
  {
   "cell_type": "markdown",
   "metadata": {},
   "source": [
    "# Part 1: Data Processing"
   ]
  },
  {
   "cell_type": "markdown",
   "metadata": {},
   "source": [
    "In this part, I process the information across the entirety of the dataset. I begin by understanding the dataset and its contents on a high level by implementing seaborn's heatmap capacities, and cleaning where necessary. "
   ]
  },
  {
   "cell_type": "markdown",
   "metadata": {},
   "source": [
    "**Packages and Data Upload**"
   ]
  },
  {
   "cell_type": "code",
   "execution_count": 216,
   "metadata": {},
   "outputs": [],
   "source": [
    "# Numerical packages\n",
    "\n",
    "import pandas as pd\n",
    "import numpy as np"
   ]
  },
  {
   "cell_type": "code",
   "execution_count": 217,
   "metadata": {},
   "outputs": [],
   "source": [
    "# Plotting packages\n",
    "\n",
    "import matplotlib.pyplot as plt\n",
    "import seaborn as sns"
   ]
  },
  {
   "cell_type": "code",
   "execution_count": 218,
   "metadata": {},
   "outputs": [],
   "source": [
    "# Inline call\n",
    "\n",
    "%matplotlib inline"
   ]
  },
  {
   "cell_type": "code",
   "execution_count": 219,
   "metadata": {},
   "outputs": [],
   "source": [
    "# Data Upload\n",
    "\n",
    "pitchfork_data = pd.read_csv('pitchfork_scores.csv')"
   ]
  },
  {
   "cell_type": "markdown",
   "metadata": {},
   "source": [
    "**Understanding the dataset**"
   ]
  },
  {
   "cell_type": "code",
   "execution_count": 220,
   "metadata": {},
   "outputs": [
    {
     "data": {
      "text/html": [
       "<div>\n",
       "<style scoped>\n",
       "    .dataframe tbody tr th:only-of-type {\n",
       "        vertical-align: middle;\n",
       "    }\n",
       "\n",
       "    .dataframe tbody tr th {\n",
       "        vertical-align: top;\n",
       "    }\n",
       "\n",
       "    .dataframe thead th {\n",
       "        text-align: right;\n",
       "    }\n",
       "</style>\n",
       "<table border=\"1\" class=\"dataframe\">\n",
       "  <thead>\n",
       "    <tr style=\"text-align: right;\">\n",
       "      <th></th>\n",
       "      <th>Unnamed: 0</th>\n",
       "      <th>reviewid</th>\n",
       "      <th>title</th>\n",
       "      <th>artist</th>\n",
       "      <th>score</th>\n",
       "      <th>best_new_music</th>\n",
       "      <th>author_type</th>\n",
       "      <th>pub_date</th>\n",
       "      <th>pub_day</th>\n",
       "      <th>pub_month</th>\n",
       "      <th>pub_year</th>\n",
       "      <th>label</th>\n",
       "      <th>genre</th>\n",
       "      <th>year</th>\n",
       "    </tr>\n",
       "  </thead>\n",
       "  <tbody>\n",
       "    <tr>\n",
       "      <th>0</th>\n",
       "      <td>1</td>\n",
       "      <td>22703</td>\n",
       "      <td>mezzanine</td>\n",
       "      <td>massive attack</td>\n",
       "      <td>9.3</td>\n",
       "      <td>0</td>\n",
       "      <td>contributor</td>\n",
       "      <td>2017-01-08</td>\n",
       "      <td>8</td>\n",
       "      <td>1</td>\n",
       "      <td>2017</td>\n",
       "      <td>virgin</td>\n",
       "      <td>electronic</td>\n",
       "      <td>1998.0</td>\n",
       "    </tr>\n",
       "    <tr>\n",
       "      <th>1</th>\n",
       "      <td>2</td>\n",
       "      <td>22721</td>\n",
       "      <td>prelapsarian</td>\n",
       "      <td>krallice</td>\n",
       "      <td>7.9</td>\n",
       "      <td>0</td>\n",
       "      <td>contributor</td>\n",
       "      <td>2017-01-07</td>\n",
       "      <td>7</td>\n",
       "      <td>1</td>\n",
       "      <td>2017</td>\n",
       "      <td>hathenter</td>\n",
       "      <td>metal</td>\n",
       "      <td>2016.0</td>\n",
       "    </tr>\n",
       "    <tr>\n",
       "      <th>2</th>\n",
       "      <td>3</td>\n",
       "      <td>22659</td>\n",
       "      <td>all of them naturals</td>\n",
       "      <td>uranium club</td>\n",
       "      <td>7.3</td>\n",
       "      <td>0</td>\n",
       "      <td>contributor</td>\n",
       "      <td>2017-01-07</td>\n",
       "      <td>7</td>\n",
       "      <td>1</td>\n",
       "      <td>2017</td>\n",
       "      <td>fashionable idiots</td>\n",
       "      <td>rock</td>\n",
       "      <td>2016.0</td>\n",
       "    </tr>\n",
       "    <tr>\n",
       "      <th>3</th>\n",
       "      <td>4</td>\n",
       "      <td>22659</td>\n",
       "      <td>all of them naturals</td>\n",
       "      <td>uranium club</td>\n",
       "      <td>7.3</td>\n",
       "      <td>0</td>\n",
       "      <td>contributor</td>\n",
       "      <td>2017-01-07</td>\n",
       "      <td>7</td>\n",
       "      <td>1</td>\n",
       "      <td>2017</td>\n",
       "      <td>static shock</td>\n",
       "      <td>rock</td>\n",
       "      <td>2016.0</td>\n",
       "    </tr>\n",
       "    <tr>\n",
       "      <th>4</th>\n",
       "      <td>5</td>\n",
       "      <td>22661</td>\n",
       "      <td>first songs</td>\n",
       "      <td>kleenex, liliput</td>\n",
       "      <td>9.0</td>\n",
       "      <td>1</td>\n",
       "      <td>associate reviews editor</td>\n",
       "      <td>2017-01-06</td>\n",
       "      <td>6</td>\n",
       "      <td>1</td>\n",
       "      <td>2017</td>\n",
       "      <td>kill rock stars</td>\n",
       "      <td>rock</td>\n",
       "      <td>2016.0</td>\n",
       "    </tr>\n",
       "  </tbody>\n",
       "</table>\n",
       "</div>"
      ],
      "text/plain": [
       "   Unnamed: 0  reviewid                 title            artist  score  \\\n",
       "0           1     22703             mezzanine    massive attack    9.3   \n",
       "1           2     22721          prelapsarian          krallice    7.9   \n",
       "2           3     22659  all of them naturals      uranium club    7.3   \n",
       "3           4     22659  all of them naturals      uranium club    7.3   \n",
       "4           5     22661           first songs  kleenex, liliput    9.0   \n",
       "\n",
       "   best_new_music               author_type    pub_date  pub_day  pub_month  \\\n",
       "0               0               contributor  2017-01-08        8          1   \n",
       "1               0               contributor  2017-01-07        7          1   \n",
       "2               0               contributor  2017-01-07        7          1   \n",
       "3               0               contributor  2017-01-07        7          1   \n",
       "4               1  associate reviews editor  2017-01-06        6          1   \n",
       "\n",
       "   pub_year               label       genre    year  \n",
       "0      2017              virgin  electronic  1998.0  \n",
       "1      2017           hathenter       metal  2016.0  \n",
       "2      2017  fashionable idiots        rock  2016.0  \n",
       "3      2017        static shock        rock  2016.0  \n",
       "4      2017     kill rock stars        rock  2016.0  "
      ]
     },
     "execution_count": 220,
     "metadata": {},
     "output_type": "execute_result"
    }
   ],
   "source": [
    "# Understanding the content of each column in the dataset\n",
    "\n",
    "pitchfork_data.head()"
   ]
  },
  {
   "cell_type": "markdown",
   "metadata": {},
   "source": [
    "We don't need the following columns:\n",
    "\n",
    "* Column 1 (which used to be index in the original dataset)\n",
    "* pub_date (since we already have those columns broken down for us)"
   ]
  },
  {
   "cell_type": "code",
   "execution_count": 221,
   "metadata": {},
   "outputs": [],
   "source": [
    "# Dropping the required column:\n",
    "\n",
    "pitchfork_data = pitchfork_data.drop(['Unnamed: 0', 'pub_date'], axis=1)"
   ]
  },
  {
   "cell_type": "code",
   "execution_count": 222,
   "metadata": {},
   "outputs": [],
   "source": [
    "# We will also drop any duplicates of reviews, since review_ids can be distributed across different labels.\n",
    "\n",
    "pitchfork_data = pitchfork_data.drop_duplicates(subset = 'reviewid', keep = 'first')"
   ]
  },
  {
   "cell_type": "code",
   "execution_count": 223,
   "metadata": {},
   "outputs": [
    {
     "data": {
      "text/html": [
       "<div>\n",
       "<style scoped>\n",
       "    .dataframe tbody tr th:only-of-type {\n",
       "        vertical-align: middle;\n",
       "    }\n",
       "\n",
       "    .dataframe tbody tr th {\n",
       "        vertical-align: top;\n",
       "    }\n",
       "\n",
       "    .dataframe thead th {\n",
       "        text-align: right;\n",
       "    }\n",
       "</style>\n",
       "<table border=\"1\" class=\"dataframe\">\n",
       "  <thead>\n",
       "    <tr style=\"text-align: right;\">\n",
       "      <th></th>\n",
       "      <th>reviewid</th>\n",
       "      <th>title</th>\n",
       "      <th>artist</th>\n",
       "      <th>score</th>\n",
       "      <th>best_new_music</th>\n",
       "      <th>author_type</th>\n",
       "      <th>pub_day</th>\n",
       "      <th>pub_month</th>\n",
       "      <th>pub_year</th>\n",
       "      <th>label</th>\n",
       "      <th>genre</th>\n",
       "      <th>year</th>\n",
       "    </tr>\n",
       "  </thead>\n",
       "  <tbody>\n",
       "    <tr>\n",
       "      <th>0</th>\n",
       "      <td>22703</td>\n",
       "      <td>mezzanine</td>\n",
       "      <td>massive attack</td>\n",
       "      <td>9.3</td>\n",
       "      <td>0</td>\n",
       "      <td>contributor</td>\n",
       "      <td>8</td>\n",
       "      <td>1</td>\n",
       "      <td>2017</td>\n",
       "      <td>virgin</td>\n",
       "      <td>electronic</td>\n",
       "      <td>1998.0</td>\n",
       "    </tr>\n",
       "    <tr>\n",
       "      <th>1</th>\n",
       "      <td>22721</td>\n",
       "      <td>prelapsarian</td>\n",
       "      <td>krallice</td>\n",
       "      <td>7.9</td>\n",
       "      <td>0</td>\n",
       "      <td>contributor</td>\n",
       "      <td>7</td>\n",
       "      <td>1</td>\n",
       "      <td>2017</td>\n",
       "      <td>hathenter</td>\n",
       "      <td>metal</td>\n",
       "      <td>2016.0</td>\n",
       "    </tr>\n",
       "    <tr>\n",
       "      <th>2</th>\n",
       "      <td>22659</td>\n",
       "      <td>all of them naturals</td>\n",
       "      <td>uranium club</td>\n",
       "      <td>7.3</td>\n",
       "      <td>0</td>\n",
       "      <td>contributor</td>\n",
       "      <td>7</td>\n",
       "      <td>1</td>\n",
       "      <td>2017</td>\n",
       "      <td>fashionable idiots</td>\n",
       "      <td>rock</td>\n",
       "      <td>2016.0</td>\n",
       "    </tr>\n",
       "    <tr>\n",
       "      <th>4</th>\n",
       "      <td>22661</td>\n",
       "      <td>first songs</td>\n",
       "      <td>kleenex, liliput</td>\n",
       "      <td>9.0</td>\n",
       "      <td>1</td>\n",
       "      <td>associate reviews editor</td>\n",
       "      <td>6</td>\n",
       "      <td>1</td>\n",
       "      <td>2017</td>\n",
       "      <td>kill rock stars</td>\n",
       "      <td>rock</td>\n",
       "      <td>2016.0</td>\n",
       "    </tr>\n",
       "    <tr>\n",
       "      <th>6</th>\n",
       "      <td>22725</td>\n",
       "      <td>new start</td>\n",
       "      <td>taso</td>\n",
       "      <td>8.1</td>\n",
       "      <td>0</td>\n",
       "      <td>tracks coordinator</td>\n",
       "      <td>6</td>\n",
       "      <td>1</td>\n",
       "      <td>2017</td>\n",
       "      <td>teklife</td>\n",
       "      <td>electronic</td>\n",
       "      <td>2016.0</td>\n",
       "    </tr>\n",
       "  </tbody>\n",
       "</table>\n",
       "</div>"
      ],
      "text/plain": [
       "   reviewid                 title            artist  score  best_new_music  \\\n",
       "0     22703             mezzanine    massive attack    9.3               0   \n",
       "1     22721          prelapsarian          krallice    7.9               0   \n",
       "2     22659  all of them naturals      uranium club    7.3               0   \n",
       "4     22661           first songs  kleenex, liliput    9.0               1   \n",
       "6     22725             new start              taso    8.1               0   \n",
       "\n",
       "                author_type  pub_day  pub_month  pub_year               label  \\\n",
       "0               contributor        8          1      2017              virgin   \n",
       "1               contributor        7          1      2017           hathenter   \n",
       "2               contributor        7          1      2017  fashionable idiots   \n",
       "4  associate reviews editor        6          1      2017     kill rock stars   \n",
       "6        tracks coordinator        6          1      2017             teklife   \n",
       "\n",
       "        genre    year  \n",
       "0  electronic  1998.0  \n",
       "1       metal  2016.0  \n",
       "2        rock  2016.0  \n",
       "4        rock  2016.0  \n",
       "6  electronic  2016.0  "
      ]
     },
     "execution_count": 223,
     "metadata": {},
     "output_type": "execute_result"
    }
   ],
   "source": [
    "# Checking the dataset again\n",
    "\n",
    "pitchfork_data.head()"
   ]
  },
  {
   "cell_type": "code",
   "execution_count": 224,
   "metadata": {},
   "outputs": [
    {
     "name": "stdout",
     "output_type": "stream",
     "text": [
      "<class 'pandas.core.frame.DataFrame'>\n",
      "Int64Index: 18389 entries, 0 to 25921\n",
      "Data columns (total 12 columns):\n",
      "reviewid          18389 non-null int64\n",
      "title             18387 non-null object\n",
      "artist            18387 non-null object\n",
      "score             18389 non-null float64\n",
      "best_new_music    18389 non-null int64\n",
      "author_type       14485 non-null object\n",
      "pub_day           18389 non-null int64\n",
      "pub_month         18389 non-null int64\n",
      "pub_year          18389 non-null int64\n",
      "label             18342 non-null object\n",
      "genre             16024 non-null object\n",
      "year              17983 non-null float64\n",
      "dtypes: float64(2), int64(5), object(5)\n",
      "memory usage: 1.8+ MB\n"
     ]
    }
   ],
   "source": [
    "# Understanding the type of data in each column in the dataset\n",
    "\n",
    "pitchfork_data.info()"
   ]
  },
  {
   "cell_type": "markdown",
   "metadata": {},
   "source": [
    "*Note*: This dataset has 25,992 entries. "
   ]
  },
  {
   "cell_type": "markdown",
   "metadata": {},
   "source": [
    "We should transform the pub_day, pub_month, and pub_year variables into strings, since we will be interested in exploring score distributions across each of these as a specific category. Additionally, we need to transform the year variable into object type. "
   ]
  },
  {
   "cell_type": "code",
   "execution_count": 225,
   "metadata": {},
   "outputs": [],
   "source": [
    "# Changing column types from int and float to object\n",
    "\n",
    "pitchfork_data[['pub_day', 'pub_month', 'pub_year', 'year']] = pitchfork_data[['pub_day', 'pub_month', 'pub_year', 'year']].astype('object')"
   ]
  },
  {
   "cell_type": "code",
   "execution_count": 226,
   "metadata": {},
   "outputs": [
    {
     "name": "stdout",
     "output_type": "stream",
     "text": [
      "<class 'pandas.core.frame.DataFrame'>\n",
      "Int64Index: 18389 entries, 0 to 25921\n",
      "Data columns (total 12 columns):\n",
      "reviewid          18389 non-null int64\n",
      "title             18387 non-null object\n",
      "artist            18387 non-null object\n",
      "score             18389 non-null float64\n",
      "best_new_music    18389 non-null int64\n",
      "author_type       14485 non-null object\n",
      "pub_day           18389 non-null object\n",
      "pub_month         18389 non-null object\n",
      "pub_year          18389 non-null object\n",
      "label             18342 non-null object\n",
      "genre             16024 non-null object\n",
      "year              17983 non-null object\n",
      "dtypes: float64(1), int64(2), object(9)\n",
      "memory usage: 1.8+ MB\n"
     ]
    }
   ],
   "source": [
    "# Checking again the type of data in each column in the dataset\n",
    "\n",
    "pitchfork_data.info()"
   ]
  },
  {
   "cell_type": "code",
   "execution_count": 227,
   "metadata": {},
   "outputs": [
    {
     "data": {
      "text/plain": [
       "<matplotlib.axes._subplots.AxesSubplot at 0x1649a978>"
      ]
     },
     "execution_count": 227,
     "metadata": {},
     "output_type": "execute_result"
    },
    {
     "data": {
      "image/png": "[encoded data removed]",
      "text/plain": [
       "<Figure size 1080x720 with 1 Axes>"
      ]
     },
     "metadata": {
      "needs_background": "light"
     },
     "output_type": "display_data"
    }
   ],
   "source": [
    "# Checking for presence of null values in each column, where purple = data and yellow = NULL\n",
    "\n",
    "fig, ax = plt.subplots(figsize = (15,10))\n",
    "sns.heatmap(pitchfork_data.isnull(), yticklabels=False, cbar=False, cmap='viridis')"
   ]
  },
  {
   "cell_type": "markdown",
   "metadata": {},
   "source": [
    "*Interpretation*: The author_type variable is unfortunately rife with null values, so it doesn't make much sense to contain it in the dataset. The *genre* variable also has numerous null values, but we can create an 'unknown' category for genre to avoid biased imputation methods. Finally, *year*, *label*, and *title* variables have some null values that we might need to drop. Let's start from the simpler ones. "
   ]
  },
  {
   "cell_type": "code",
   "execution_count": 228,
   "metadata": {},
   "outputs": [],
   "source": [
    "# Dropping the author_type column\n",
    "\n",
    "pitchfork_data = pitchfork_data.drop('author_type', axis=1)"
   ]
  },
  {
   "cell_type": "code",
   "execution_count": 229,
   "metadata": {},
   "outputs": [],
   "source": [
    "# Import float division capability\n",
    "\n",
    "from __future__ import division"
   ]
  },
  {
   "cell_type": "code",
   "execution_count": 230,
   "metadata": {},
   "outputs": [
    {
     "data": {
      "text/plain": [
       "2.208"
      ]
     },
     "execution_count": 230,
     "metadata": {},
     "output_type": "execute_result"
    }
   ],
   "source": [
    "# Let's check how much of the dataset null values occupy for the year variable:\n",
    "\n",
    "round(len(pitchfork_data[pitchfork_data['year'].isna() == 1])*100/len(pitchfork_data['year']), 3) "
   ]
  },
  {
   "cell_type": "markdown",
   "metadata": {},
   "source": [
    "2.3% of data points in the *year* variable are null, which means we can safely drop them, as it won't affect our analysis that much. "
   ]
  },
  {
   "cell_type": "code",
   "execution_count": 231,
   "metadata": {},
   "outputs": [
    {
     "data": {
      "text/plain": [
       "0.256"
      ]
     },
     "execution_count": 231,
     "metadata": {},
     "output_type": "execute_result"
    }
   ],
   "source": [
    "# Let's check how much of the dataset null values occupy for the label variable:\n",
    "\n",
    "round(len(pitchfork_data[pitchfork_data['label'].isna() == 1])*100/len(pitchfork_data['label']), 3) "
   ]
  },
  {
   "cell_type": "markdown",
   "metadata": {},
   "source": [
    "0.2% of data points in the *label* variable are null, which means we can safely drop them, as it won't affect our analysis that much. "
   ]
  },
  {
   "cell_type": "code",
   "execution_count": 232,
   "metadata": {},
   "outputs": [
    {
     "data": {
      "text/plain": [
       "0.011"
      ]
     },
     "execution_count": 232,
     "metadata": {},
     "output_type": "execute_result"
    }
   ],
   "source": [
    "# Let's check how much of the dataset null values occupy for the title variable:\n",
    "\n",
    "round(len(pitchfork_data[pitchfork_data['title'].isna() == 1])*100/len(pitchfork_data['title']), 3) "
   ]
  },
  {
   "cell_type": "markdown",
   "metadata": {},
   "source": [
    "0.015% of data points in the *title* variable are null, which means we can safely drop them, as it won't affect our analysis that much. "
   ]
  },
  {
   "cell_type": "code",
   "execution_count": 233,
   "metadata": {},
   "outputs": [],
   "source": [
    "# Dropping all the above mentioned rows\n",
    "\n",
    "pitchfork_data.dropna(subset=['year', 'label', 'title'], inplace=True)"
   ]
  },
  {
   "cell_type": "code",
   "execution_count": 234,
   "metadata": {},
   "outputs": [],
   "source": [
    "# Let's replace genre NULL values with 'Unknown' category\n",
    "\n",
    "pitchfork_data['genre'] = pitchfork_data.genre.replace(np.nan, 'unknown', regex=True)"
   ]
  },
  {
   "cell_type": "code",
   "execution_count": 235,
   "metadata": {},
   "outputs": [
    {
     "data": {
      "text/plain": [
       "<matplotlib.axes._subplots.AxesSubplot at 0x1641eef0>"
      ]
     },
     "execution_count": 235,
     "metadata": {},
     "output_type": "execute_result"
    },
    {
     "data": {
      "image/png": "[encoded data removed]",
      "text/plain": [
       "<Figure size 1080x720 with 1 Axes>"
      ]
     },
     "metadata": {
      "needs_background": "light"
     },
     "output_type": "display_data"
    }
   ],
   "source": [
    "# Checking for presence of null values in each column, where purple = data and yellow = NULL\n",
    "\n",
    "fig, ax = plt.subplots(figsize = (15,10))\n",
    "sns.heatmap(pitchfork_data.isnull(), yticklabels=False, cbar=False, cmap='viridis')"
   ]
  },
  {
   "cell_type": "code",
   "execution_count": 236,
   "metadata": {},
   "outputs": [
    {
     "data": {
      "text/plain": [
       "reviewid          False\n",
       "title             False\n",
       "artist             True\n",
       "score             False\n",
       "best_new_music    False\n",
       "pub_day           False\n",
       "pub_month         False\n",
       "pub_year          False\n",
       "label             False\n",
       "genre             False\n",
       "year              False\n",
       "dtype: bool"
      ]
     },
     "execution_count": 236,
     "metadata": {},
     "output_type": "execute_result"
    }
   ],
   "source": [
    "# Pre-Final check: did we get rid of all NULL values? If any columns are TRUE, we still have NULL values. \n",
    "\n",
    "pd.isnull(pitchfork_data).sum() > 0"
   ]
  },
  {
   "cell_type": "code",
   "execution_count": 237,
   "metadata": {},
   "outputs": [
    {
     "data": {
      "text/plain": [
       "0.006"
      ]
     },
     "execution_count": 237,
     "metadata": {},
     "output_type": "execute_result"
    }
   ],
   "source": [
    "# Let's check how much of the dataset null values occupy for the artist variable:\n",
    "\n",
    "round(len(pitchfork_data[pitchfork_data['artist'].isna() == 1])*100/len(pitchfork_data['artist']), 3) "
   ]
  },
  {
   "cell_type": "markdown",
   "metadata": {},
   "source": [
    "0.004% of the cleaned dataset, which means even less of the original dataset. "
   ]
  },
  {
   "cell_type": "code",
   "execution_count": 238,
   "metadata": {},
   "outputs": [],
   "source": [
    "# Let's now drop those as well \n",
    "\n",
    "pitchfork_data.dropna(subset=['artist'], inplace=True)"
   ]
  },
  {
   "cell_type": "code",
   "execution_count": 239,
   "metadata": {},
   "outputs": [
    {
     "data": {
      "text/plain": [
       "reviewid          False\n",
       "title             False\n",
       "artist            False\n",
       "score             False\n",
       "best_new_music    False\n",
       "pub_day           False\n",
       "pub_month         False\n",
       "pub_year          False\n",
       "label             False\n",
       "genre             False\n",
       "year              False\n",
       "dtype: bool"
      ]
     },
     "execution_count": 239,
     "metadata": {},
     "output_type": "execute_result"
    }
   ],
   "source": [
    "# Final check: did we get rid of all NULL values? If any columns are TRUE, we still have NULL values. \n",
    "\n",
    "pd.isnull(pitchfork_data).sum() > 0"
   ]
  },
  {
   "cell_type": "code",
   "execution_count": 240,
   "metadata": {},
   "outputs": [],
   "source": [
    "# For easiness, let's rename the variable and reset indices\n",
    "\n",
    "df = pitchfork_data.reset_index()"
   ]
  },
  {
   "cell_type": "code",
   "execution_count": 241,
   "metadata": {},
   "outputs": [],
   "source": [
    "# We need to drop the newly-created index variable\n",
    "\n",
    "df.drop(axis=1, columns=['index'], inplace=True)"
   ]
  },
  {
   "cell_type": "code",
   "execution_count": 242,
   "metadata": {},
   "outputs": [
    {
     "data": {
      "text/html": [
       "<div>\n",
       "<style scoped>\n",
       "    .dataframe tbody tr th:only-of-type {\n",
       "        vertical-align: middle;\n",
       "    }\n",
       "\n",
       "    .dataframe tbody tr th {\n",
       "        vertical-align: top;\n",
       "    }\n",
       "\n",
       "    .dataframe thead th {\n",
       "        text-align: right;\n",
       "    }\n",
       "</style>\n",
       "<table border=\"1\" class=\"dataframe\">\n",
       "  <thead>\n",
       "    <tr style=\"text-align: right;\">\n",
       "      <th></th>\n",
       "      <th>reviewid</th>\n",
       "      <th>title</th>\n",
       "      <th>artist</th>\n",
       "      <th>score</th>\n",
       "      <th>best_new_music</th>\n",
       "      <th>pub_day</th>\n",
       "      <th>pub_month</th>\n",
       "      <th>pub_year</th>\n",
       "      <th>label</th>\n",
       "      <th>genre</th>\n",
       "      <th>year</th>\n",
       "    </tr>\n",
       "  </thead>\n",
       "  <tbody>\n",
       "    <tr>\n",
       "      <th>0</th>\n",
       "      <td>22703</td>\n",
       "      <td>mezzanine</td>\n",
       "      <td>massive attack</td>\n",
       "      <td>9.3</td>\n",
       "      <td>0</td>\n",
       "      <td>8</td>\n",
       "      <td>1</td>\n",
       "      <td>2017</td>\n",
       "      <td>virgin</td>\n",
       "      <td>electronic</td>\n",
       "      <td>1998</td>\n",
       "    </tr>\n",
       "    <tr>\n",
       "      <th>1</th>\n",
       "      <td>22721</td>\n",
       "      <td>prelapsarian</td>\n",
       "      <td>krallice</td>\n",
       "      <td>7.9</td>\n",
       "      <td>0</td>\n",
       "      <td>7</td>\n",
       "      <td>1</td>\n",
       "      <td>2017</td>\n",
       "      <td>hathenter</td>\n",
       "      <td>metal</td>\n",
       "      <td>2016</td>\n",
       "    </tr>\n",
       "    <tr>\n",
       "      <th>2</th>\n",
       "      <td>22659</td>\n",
       "      <td>all of them naturals</td>\n",
       "      <td>uranium club</td>\n",
       "      <td>7.3</td>\n",
       "      <td>0</td>\n",
       "      <td>7</td>\n",
       "      <td>1</td>\n",
       "      <td>2017</td>\n",
       "      <td>fashionable idiots</td>\n",
       "      <td>rock</td>\n",
       "      <td>2016</td>\n",
       "    </tr>\n",
       "    <tr>\n",
       "      <th>3</th>\n",
       "      <td>22661</td>\n",
       "      <td>first songs</td>\n",
       "      <td>kleenex, liliput</td>\n",
       "      <td>9.0</td>\n",
       "      <td>1</td>\n",
       "      <td>6</td>\n",
       "      <td>1</td>\n",
       "      <td>2017</td>\n",
       "      <td>kill rock stars</td>\n",
       "      <td>rock</td>\n",
       "      <td>2016</td>\n",
       "    </tr>\n",
       "    <tr>\n",
       "      <th>4</th>\n",
       "      <td>22725</td>\n",
       "      <td>new start</td>\n",
       "      <td>taso</td>\n",
       "      <td>8.1</td>\n",
       "      <td>0</td>\n",
       "      <td>6</td>\n",
       "      <td>1</td>\n",
       "      <td>2017</td>\n",
       "      <td>teklife</td>\n",
       "      <td>electronic</td>\n",
       "      <td>2016</td>\n",
       "    </tr>\n",
       "  </tbody>\n",
       "</table>\n",
       "</div>"
      ],
      "text/plain": [
       "   reviewid                 title            artist  score  best_new_music  \\\n",
       "0     22703             mezzanine    massive attack    9.3               0   \n",
       "1     22721          prelapsarian          krallice    7.9               0   \n",
       "2     22659  all of them naturals      uranium club    7.3               0   \n",
       "3     22661           first songs  kleenex, liliput    9.0               1   \n",
       "4     22725             new start              taso    8.1               0   \n",
       "\n",
       "  pub_day pub_month pub_year               label       genre  year  \n",
       "0       8         1     2017              virgin  electronic  1998  \n",
       "1       7         1     2017           hathenter       metal  2016  \n",
       "2       7         1     2017  fashionable idiots        rock  2016  \n",
       "3       6         1     2017     kill rock stars        rock  2016  \n",
       "4       6         1     2017             teklife  electronic  2016  "
      ]
     },
     "execution_count": 242,
     "metadata": {},
     "output_type": "execute_result"
    }
   ],
   "source": [
    "df.head()"
   ]
  },
  {
   "cell_type": "markdown",
   "metadata": {},
   "source": [
    "# Part 2: Data Visualization"
   ]
  },
  {
   "cell_type": "markdown",
   "metadata": {},
   "source": [
    "### Descriptive Statistics"
   ]
  },
  {
   "cell_type": "markdown",
   "metadata": {},
   "source": [
    "**Year-based analysis**"
   ]
  },
  {
   "cell_type": "code",
   "execution_count": 243,
   "metadata": {},
   "outputs": [
    {
     "data": {
      "text/plain": [
       "Text(0.5,1,'Number of Albums per Year of Publication (Chronological)')"
      ]
     },
     "execution_count": 243,
     "metadata": {},
     "output_type": "execute_result"
    },
    {
     "data": {
      "image/png": "[encoded data removed]",
      "text/plain": [
       "<Figure size 936x576 with 1 Axes>"
      ]
     },
     "metadata": {
      "needs_background": "light"
     },
     "output_type": "display_data"
    }
   ],
   "source": [
    "# Let's see how many albums were reviewed per each year of review publication:\n",
    "\n",
    "\n",
    "# Ordered by year \n",
    "\n",
    "plt.figure(figsize=(13,8))\n",
    "sns.countplot(x='pub_year', data=df, color='#C17205')\n",
    "plt.tight_layout()\n",
    "plt.xlabel('Year of Review Publication', weight = 'bold')\n",
    "plt.ylabel('Number of Reviews', weight = 'bold')\n",
    "plt.title('Number of Albums per Year of Publication (Chronological)', weight = 'bold')"
   ]
  },
  {
   "cell_type": "markdown",
   "metadata": {},
   "source": [
    "If the dataset has been built by correct scraping, we can see that Pitchfork picked up in year 2002, rising to an approximate average number of 1600 reviews per year, as of 2004. One exception to this is year 2015, which can be due to trends in the music industry. 2017 is an outlier here, as the data was likely acquired in that year, when there was not enough reviews yet. So, if we look at the range from 2004 - 2016, the distribution seems fairly uniform. "
   ]
  },
  {
   "cell_type": "code",
   "execution_count": 244,
   "metadata": {},
   "outputs": [
    {
     "data": {
      "text/plain": [
       "Text(0.5,1,'Number of Albums per Year of Album Release (Chronological)')"
      ]
     },
     "execution_count": 244,
     "metadata": {},
     "output_type": "execute_result"
    },
    {
     "data": {
      "image/png": "[encoded data removed]",
      "text/plain": [
       "<Figure size 936x576 with 1 Axes>"
      ]
     },
     "metadata": {
      "needs_background": "light"
     },
     "output_type": "display_data"
    }
   ],
   "source": [
    "# Let's see how these plots look like for year of album release:\n",
    "\n",
    "# Ordered by year \n",
    "\n",
    "plt.figure(figsize=(13,8))\n",
    "sns.countplot(x=df['year'].astype(int), data=df, color='#605070')\n",
    "# casting as integer here since xticks plots numbers as floats\n",
    "plt.tight_layout()\n",
    "plt.xticks(rotation=70)\n",
    "plt.xlabel('Year of Album Release', weight = 'bold')\n",
    "plt.ylabel('Number of Reviews', weight = 'bold')\n",
    "plt.title('Number of Albums per Year of Album Release (Chronological)', weight = 'bold')"
   ]
  },
  {
   "cell_type": "markdown",
   "metadata": {},
   "source": [
    "We see a different distribution year: low-frequency counts for years before 1999, when Pitchfork's first publications are recorded in this dataset. This is because Pitchfork often reviews older albums, either because they got re-released or because an author offers a fresher perspective on iconic albums."
   ]
  },
  {
   "cell_type": "code",
   "execution_count": 245,
   "metadata": {},
   "outputs": [
    {
     "data": {
      "text/plain": [
       "Text(80.75,0.5,'Number of Reviews')"
      ]
     },
     "execution_count": 245,
     "metadata": {},
     "output_type": "execute_result"
    },
    {
     "data": {
      "image/png": "[encoded data removed]",
      "text/plain": [
       "<Figure size 936x576 with 1 Axes>"
      ]
     },
     "metadata": {
      "needs_background": "light"
     },
     "output_type": "display_data"
    }
   ],
   "source": [
    "# Let's see how the distribution changes for 'best new music' across years for Pitchfork\n",
    "\n",
    "plt.figure(figsize=(13,8))\n",
    "sns.countplot(x='pub_year', hue='best_new_music', data=df, palette='Set2')\n",
    "plt.tight_layout()\n",
    "plt.title('Best New Music per Year of Publication', weight = 'bold')\n",
    "plt.xlabel('Year of Publication', weight = 'bold')\n",
    "plt.ylabel('Number of Reviews', weight = 'bold')"
   ]
  },
  {
   "cell_type": "markdown",
   "metadata": {},
   "source": [
    "We can see that Pitchfork introduced the concept in 2003, and that only a small percentage of albums each year is classified as 'Best New Music.' Interestingly, this number picked up in 2009 and onward."
   ]
  },
  {
   "cell_type": "code",
   "execution_count": 246,
   "metadata": {},
   "outputs": [
    {
     "data": {
      "image/png": "[encoded data removed]",
      "text/plain": [
       "<Figure size 936x576 with 1 Axes>"
      ]
     },
     "metadata": {
      "needs_background": "light"
     },
     "output_type": "display_data"
    }
   ],
   "source": [
    "# Now, let's see how the distribution changes for 'best new music' across years of album release\n",
    "\n",
    "plt.figure(figsize=(13,8))\n",
    "sns.countplot(x=df['year'].astype(int), hue='best_new_music', data=df, palette='Set1')\n",
    "plt.tight_layout()\n",
    "plt.title('Best New Music per Year of Album Release', weight = 'bold')\n",
    "plt.xlabel('Year of Release', weight = 'bold')\n",
    "plt.ylabel('Number of Reviews', weight = 'bold')\n",
    "plt.xticks(rotation=70)\n",
    "plt.show()"
   ]
  },
  {
   "cell_type": "markdown",
   "metadata": {},
   "source": [
    "The trend generally is consistent, even when looking at year of release instead of year of publication, though we can notice that a fair number of pre-Pitchfork era albums have been classified as best new music. These were likely re-releases of older or iconic albums. "
   ]
  },
  {
   "cell_type": "markdown",
   "metadata": {},
   "source": [
    "**Genre-based analysis**"
   ]
  },
  {
   "cell_type": "code",
   "execution_count": 247,
   "metadata": {},
   "outputs": [
    {
     "data": {
      "image/png": "[encoded data removed]",
      "text/plain": [
       "<Figure size 936x576 with 1 Axes>"
      ]
     },
     "metadata": {
      "needs_background": "light"
     },
     "output_type": "display_data"
    }
   ],
   "source": [
    "# Let's see which genres generally tend to be Pitchfork's main focus. \n",
    "\n",
    "# Ordered by genre\n",
    "\n",
    "plt.figure(figsize=(13,8))\n",
    "df['genre'].value_counts().plot(kind='bar', color = '#D50A97')\n",
    "plt.tight_layout()\n",
    "plt.xlabel('Genre', weight = 'bold')\n",
    "plt.ylabel('Number of Reviews', weight = 'bold')\n",
    "plt.title('Number of Reviews per Genre', weight = 'bold')\n",
    "plt.xticks(rotation = 70)\n",
    "plt.show()"
   ]
  },
  {
   "cell_type": "markdown",
   "metadata": {},
   "source": [
    "Rock music is Pitchfork's primary editorial focus, followed by electronic and experimental. Since the missing genre data has been imputated using 'unknown' label, there is a solid portion of the reviews belonging to this category. Had the data been imputated differently, the unknown category would have likely been distributed over these three genres. "
   ]
  },
  {
   "cell_type": "markdown",
   "metadata": {},
   "source": [
    "**Label-based analysis**"
   ]
  },
  {
   "cell_type": "code",
   "execution_count": 248,
   "metadata": {},
   "outputs": [
    {
     "data": {
      "text/plain": [
       "3338"
      ]
     },
     "execution_count": 248,
     "metadata": {},
     "output_type": "execute_result"
    }
   ],
   "source": [
    "# Let's see if there are any particular labels that Pitchfork tends to review albums from. \n",
    "\n",
    "# First, let's see how many labels there are in this dataset. \n",
    "\n",
    "len(df['label'].unique())"
   ]
  },
  {
   "cell_type": "markdown",
   "metadata": {},
   "source": [
    "That's too many labels, so let's only pick the top 20. "
   ]
  },
  {
   "cell_type": "code",
   "execution_count": 249,
   "metadata": {},
   "outputs": [
    {
     "data": {
      "image/png": "[encoded data removed]",
      "text/plain": [
       "<Figure size 936x576 with 1 Axes>"
      ]
     },
     "metadata": {
      "needs_background": "light"
     },
     "output_type": "display_data"
    }
   ],
   "source": [
    "plt.figure(figsize=(13,8))\n",
    "df['label'].value_counts()[0:20].plot(kind='bar', color = 'orange')\n",
    "plt.tight_layout()\n",
    "plt.xlabel('Label', weight = 'bold')\n",
    "plt.ylabel('Number of Reviews', weight = 'bold')\n",
    "plt.title('Number of Reviews across Top-20 Labels', weight = 'bold')\n",
    "plt.xticks(rotation = 70)\n",
    "plt.show()"
   ]
  },
  {
   "cell_type": "markdown",
   "metadata": {},
   "source": [
    "Interestingly, this shows that Pitchfork does tend to review a fair number of self-released records, thus indicating interest and focus on independent/indie music. "
   ]
  },
  {
   "cell_type": "markdown",
   "metadata": {},
   "source": [
    "**Score-based analysis**"
   ]
  },
  {
   "cell_type": "code",
   "execution_count": 250,
   "metadata": {},
   "outputs": [
    {
     "data": {
      "text/plain": [
       "Text(0,0.5,'Number of Reviews')"
      ]
     },
     "execution_count": 250,
     "metadata": {},
     "output_type": "execute_result"
    },
    {
     "data": {
      "image/png": "[encoded data removed]",
      "text/plain": [
       "<Figure size 936x576 with 1 Axes>"
      ]
     },
     "metadata": {
      "needs_background": "light"
     },
     "output_type": "display_data"
    }
   ],
   "source": [
    "# Let's see the distribution of Pitchfork scores\n",
    "\n",
    "fig1, ax1 = plt.subplots(figsize = (13,8))\n",
    "ax1.hist(df.score, bins = 20, range = (0,10), rwidth  = 0.8, color='#07A5FF')\n",
    "plt.xticks([0, 1, 2, 3, 4, 5, 6, 7, 8, 9, 10])\n",
    "ax1.set_title(\"Distribution of Reviews across Album Scores\", weight = 'bold')\n",
    "ax1.set_xlabel(\"Album Score\", weight = 'bold')\n",
    "ax1.set_ylabel(\"Number of Reviews\", weight = 'bold')"
   ]
  },
  {
   "cell_type": "markdown",
   "metadata": {},
   "source": [
    "We can see that the distribution of scores is negatively skewed, with most reviews assigning a score between 7 and 8. As an interesting side note, this is fairly similar to my distribution of album scores presented in the music-score-analysis repository. "
   ]
  },
  {
   "cell_type": "markdown",
   "metadata": {},
   "source": [
    "## Part 3: Data Visualization"
   ]
  },
  {
   "cell_type": "markdown",
   "metadata": {},
   "source": [
    "### Inferential Statistics"
   ]
  },
  {
   "cell_type": "markdown",
   "metadata": {},
   "source": [
    "I was interested in understanding whether there was any pattern as to how Pitchfork assigns Best New Music (BNM) to albums. I often read their reviews and find that great albums will often fall short of a few decimal points (usually in the 8.0 - 8.5 range) and not be assigned Best New Music status. "
   ]
  },
  {
   "cell_type": "code",
   "execution_count": 251,
   "metadata": {},
   "outputs": [],
   "source": [
    "# First, let's see what's the minimum score for Best New Music Albums?\n",
    "\n",
    "best_new_music = df[df['best_new_music'] == 1]"
   ]
  },
  {
   "cell_type": "code",
   "execution_count": 252,
   "metadata": {},
   "outputs": [
    {
     "data": {
      "text/plain": [
       "Text(0,0.5,'Number of Reviews')"
      ]
     },
     "execution_count": 252,
     "metadata": {},
     "output_type": "execute_result"
    },
    {
     "data": {
      "image/png": "[encoded data removed]",
      "text/plain": [
       "<Figure size 936x576 with 1 Axes>"
      ]
     },
     "metadata": {
      "needs_background": "light"
     },
     "output_type": "display_data"
    }
   ],
   "source": [
    "# Let's get the usual distribution of these scores in form of a histogram\n",
    "\n",
    "fig1, ax1 = plt.subplots(figsize = (13,8))\n",
    "ax1.hist(best_new_music.score, bins=30, range = (0,10), rwidth  = 0.8, color='black')\n",
    "plt.xticks([0, 1, 2, 3, 4, 5, 6, 7, 8, 9, 10])\n",
    "ax1.set_title(\"Distribution of Reviews across BNM Scores\", weight = 'bold')\n",
    "ax1.set_xlabel(\"BNM Album Score\", weight = 'bold')\n",
    "ax1.set_ylabel(\"Number of Reviews\", weight = 'bold')"
   ]
  },
  {
   "cell_type": "markdown",
   "metadata": {},
   "source": [
    "That's an interesting one, having Best New Music with a few low scores. For the sake of personal interest, I wanted to see which albums these were. "
   ]
  },
  {
   "cell_type": "code",
   "execution_count": 253,
   "metadata": {},
   "outputs": [
    {
     "data": {
      "text/html": [
       "<div>\n",
       "<style scoped>\n",
       "    .dataframe tbody tr th:only-of-type {\n",
       "        vertical-align: middle;\n",
       "    }\n",
       "\n",
       "    .dataframe tbody tr th {\n",
       "        vertical-align: top;\n",
       "    }\n",
       "\n",
       "    .dataframe thead th {\n",
       "        text-align: right;\n",
       "    }\n",
       "</style>\n",
       "<table border=\"1\" class=\"dataframe\">\n",
       "  <thead>\n",
       "    <tr style=\"text-align: right;\">\n",
       "      <th></th>\n",
       "      <th>reviewid</th>\n",
       "      <th>title</th>\n",
       "      <th>artist</th>\n",
       "      <th>score</th>\n",
       "      <th>best_new_music</th>\n",
       "      <th>pub_day</th>\n",
       "      <th>pub_month</th>\n",
       "      <th>pub_year</th>\n",
       "      <th>label</th>\n",
       "      <th>genre</th>\n",
       "      <th>year</th>\n",
       "    </tr>\n",
       "  </thead>\n",
       "  <tbody>\n",
       "    <tr>\n",
       "      <th>75</th>\n",
       "      <td>22393</td>\n",
       "      <td>unfinished music no. 1: two virgins</td>\n",
       "      <td>yoko ono, john lennon</td>\n",
       "      <td>6.8</td>\n",
       "      <td>1</td>\n",
       "      <td>5</td>\n",
       "      <td>12</td>\n",
       "      <td>2016</td>\n",
       "      <td>chimera</td>\n",
       "      <td>experimental</td>\n",
       "      <td>1968</td>\n",
       "    </tr>\n",
       "    <tr>\n",
       "      <th>2749</th>\n",
       "      <td>19775</td>\n",
       "      <td>m83</td>\n",
       "      <td>m83</td>\n",
       "      <td>6.5</td>\n",
       "      <td>1</td>\n",
       "      <td>4</td>\n",
       "      <td>9</td>\n",
       "      <td>2014</td>\n",
       "      <td>mute</td>\n",
       "      <td>electronic</td>\n",
       "      <td>2001</td>\n",
       "    </tr>\n",
       "    <tr>\n",
       "      <th>6810</th>\n",
       "      <td>15221</td>\n",
       "      <td>queen</td>\n",
       "      <td>queen</td>\n",
       "      <td>6.7</td>\n",
       "      <td>1</td>\n",
       "      <td>24</td>\n",
       "      <td>3</td>\n",
       "      <td>2011</td>\n",
       "      <td>island</td>\n",
       "      <td>rock</td>\n",
       "      <td>2011</td>\n",
       "    </tr>\n",
       "    <tr>\n",
       "      <th>7229</th>\n",
       "      <td>14817</td>\n",
       "      <td>death to false metal</td>\n",
       "      <td>weezer</td>\n",
       "      <td>3.5</td>\n",
       "      <td>1</td>\n",
       "      <td>3</td>\n",
       "      <td>11</td>\n",
       "      <td>2010</td>\n",
       "      <td>geffen</td>\n",
       "      <td>rock</td>\n",
       "      <td>2010</td>\n",
       "    </tr>\n",
       "    <tr>\n",
       "      <th>7881</th>\n",
       "      <td>14153</td>\n",
       "      <td>incredible string band</td>\n",
       "      <td>incredible string band</td>\n",
       "      <td>5.2</td>\n",
       "      <td>1</td>\n",
       "      <td>21</td>\n",
       "      <td>4</td>\n",
       "      <td>2010</td>\n",
       "      <td>fledg'ling</td>\n",
       "      <td>rock</td>\n",
       "      <td>2010</td>\n",
       "    </tr>\n",
       "    <tr>\n",
       "      <th>9065</th>\n",
       "      <td>12938</td>\n",
       "      <td>pablo honey: collector's edition</td>\n",
       "      <td>radiohead</td>\n",
       "      <td>5.4</td>\n",
       "      <td>1</td>\n",
       "      <td>16</td>\n",
       "      <td>4</td>\n",
       "      <td>2009</td>\n",
       "      <td>capitol</td>\n",
       "      <td>rock</td>\n",
       "      <td>2009</td>\n",
       "    </tr>\n",
       "  </tbody>\n",
       "</table>\n",
       "</div>"
      ],
      "text/plain": [
       "      reviewid                                title                  artist  \\\n",
       "75       22393  unfinished music no. 1: two virgins   yoko ono, john lennon   \n",
       "2749     19775                                  m83                     m83   \n",
       "6810     15221                                queen                   queen   \n",
       "7229     14817                 death to false metal                  weezer   \n",
       "7881     14153               incredible string band  incredible string band   \n",
       "9065     12938     pablo honey: collector's edition               radiohead   \n",
       "\n",
       "      score  best_new_music pub_day pub_month pub_year       label  \\\n",
       "75      6.8               1       5        12     2016     chimera   \n",
       "2749    6.5               1       4         9     2014        mute   \n",
       "6810    6.7               1      24         3     2011      island   \n",
       "7229    3.5               1       3        11     2010      geffen   \n",
       "7881    5.2               1      21         4     2010  fledg'ling   \n",
       "9065    5.4               1      16         4     2009     capitol   \n",
       "\n",
       "             genre  year  \n",
       "75    experimental  1968  \n",
       "2749    electronic  2001  \n",
       "6810          rock  2011  \n",
       "7229          rock  2010  \n",
       "7881          rock  2010  \n",
       "9065          rock  2009  "
      ]
     },
     "execution_count": 253,
     "metadata": {},
     "output_type": "execute_result"
    }
   ],
   "source": [
    "best_new_music[best_new_music['score'] < 7]"
   ]
  },
  {
   "cell_type": "markdown",
   "metadata": {},
   "source": [
    "Something seems off here -- after some researching online, it doesn't seem M83's eponymous EP was ever included on a Best New Music list. Additionally, from anecdotal experience, Best New Music tends to be assigned to 8.0+ albums (and, I believe, 8.3+ albums). So, I will restrict my analysis to 8.0+ albums, as well as to those that have been released after 2003, when they introduced the concept, even though they might have classified some re-issues as Best New Music. "
   ]
  },
  {
   "cell_type": "code",
   "execution_count": 254,
   "metadata": {},
   "outputs": [],
   "source": [
    "# Extracting those reviews for albums released in 2003 and onward, with scores 8+\n",
    "filters_applied_df_initial = df[df['year'] >= 2003]\n",
    "df_filters = filters_applied_df_initial[filters_applied_df_initial['score'] >= 8]"
   ]
  },
  {
   "cell_type": "code",
   "execution_count": 255,
   "metadata": {},
   "outputs": [
    {
     "data": {
      "text/html": [
       "<div>\n",
       "<style scoped>\n",
       "    .dataframe tbody tr th:only-of-type {\n",
       "        vertical-align: middle;\n",
       "    }\n",
       "\n",
       "    .dataframe tbody tr th {\n",
       "        vertical-align: top;\n",
       "    }\n",
       "\n",
       "    .dataframe thead th {\n",
       "        text-align: right;\n",
       "    }\n",
       "</style>\n",
       "<table border=\"1\" class=\"dataframe\">\n",
       "  <thead>\n",
       "    <tr style=\"text-align: right;\">\n",
       "      <th></th>\n",
       "      <th>reviewid</th>\n",
       "      <th>title</th>\n",
       "      <th>artist</th>\n",
       "      <th>score</th>\n",
       "      <th>best_new_music</th>\n",
       "      <th>pub_day</th>\n",
       "      <th>pub_month</th>\n",
       "      <th>pub_year</th>\n",
       "      <th>label</th>\n",
       "      <th>genre</th>\n",
       "      <th>year</th>\n",
       "    </tr>\n",
       "  </thead>\n",
       "  <tbody>\n",
       "    <tr>\n",
       "      <th>3</th>\n",
       "      <td>22661</td>\n",
       "      <td>first songs</td>\n",
       "      <td>kleenex, liliput</td>\n",
       "      <td>9.0</td>\n",
       "      <td>1</td>\n",
       "      <td>6</td>\n",
       "      <td>1</td>\n",
       "      <td>2017</td>\n",
       "      <td>kill rock stars</td>\n",
       "      <td>rock</td>\n",
       "      <td>2016</td>\n",
       "    </tr>\n",
       "    <tr>\n",
       "      <th>4</th>\n",
       "      <td>22725</td>\n",
       "      <td>new start</td>\n",
       "      <td>taso</td>\n",
       "      <td>8.1</td>\n",
       "      <td>0</td>\n",
       "      <td>6</td>\n",
       "      <td>1</td>\n",
       "      <td>2017</td>\n",
       "      <td>teklife</td>\n",
       "      <td>electronic</td>\n",
       "      <td>2016</td>\n",
       "    </tr>\n",
       "    <tr>\n",
       "      <th>10</th>\n",
       "      <td>22715</td>\n",
       "      <td>clear sounds/perfetta</td>\n",
       "      <td>harry bertoia</td>\n",
       "      <td>8.0</td>\n",
       "      <td>0</td>\n",
       "      <td>4</td>\n",
       "      <td>1</td>\n",
       "      <td>2017</td>\n",
       "      <td>important</td>\n",
       "      <td>experimental</td>\n",
       "      <td>2016</td>\n",
       "    </tr>\n",
       "    <tr>\n",
       "      <th>11</th>\n",
       "      <td>22745</td>\n",
       "      <td>run the jewels 3</td>\n",
       "      <td>run the jewels</td>\n",
       "      <td>8.6</td>\n",
       "      <td>1</td>\n",
       "      <td>3</td>\n",
       "      <td>1</td>\n",
       "      <td>2017</td>\n",
       "      <td>self-released</td>\n",
       "      <td>rap</td>\n",
       "      <td>2016</td>\n",
       "    </tr>\n",
       "    <tr>\n",
       "      <th>17</th>\n",
       "      <td>22719</td>\n",
       "      <td>merry christmas lil mama</td>\n",
       "      <td>chance the rapper, jeremih</td>\n",
       "      <td>8.1</td>\n",
       "      <td>0</td>\n",
       "      <td>30</td>\n",
       "      <td>12</td>\n",
       "      <td>2016</td>\n",
       "      <td>self-released</td>\n",
       "      <td>pop/r&amp;b</td>\n",
       "      <td>2016</td>\n",
       "    </tr>\n",
       "  </tbody>\n",
       "</table>\n",
       "</div>"
      ],
      "text/plain": [
       "    reviewid                     title                      artist  score  \\\n",
       "3      22661               first songs            kleenex, liliput    9.0   \n",
       "4      22725                 new start                        taso    8.1   \n",
       "10     22715     clear sounds/perfetta               harry bertoia    8.0   \n",
       "11     22745          run the jewels 3              run the jewels    8.6   \n",
       "17     22719  merry christmas lil mama  chance the rapper, jeremih    8.1   \n",
       "\n",
       "    best_new_music pub_day pub_month pub_year            label         genre  \\\n",
       "3                1       6         1     2017  kill rock stars          rock   \n",
       "4                0       6         1     2017          teklife    electronic   \n",
       "10               0       4         1     2017        important  experimental   \n",
       "11               1       3         1     2017    self-released           rap   \n",
       "17               0      30        12     2016    self-released       pop/r&b   \n",
       "\n",
       "    year  \n",
       "3   2016  \n",
       "4   2016  \n",
       "10  2016  \n",
       "11  2016  \n",
       "17  2016  "
      ]
     },
     "execution_count": 255,
     "metadata": {},
     "output_type": "execute_result"
    }
   ],
   "source": [
    "df_filters.head()"
   ]
  },
  {
   "cell_type": "markdown",
   "metadata": {},
   "source": [
    "Let's see what the distribution looks like for these high-scoring albums that were not assigned Best New Music?"
   ]
  },
  {
   "cell_type": "code",
   "execution_count": 256,
   "metadata": {},
   "outputs": [],
   "source": [
    "# High-scoring albums that are not BNM\n",
    "\n",
    "not_BNM = df_filters[df_filters['best_new_music'] == 0]"
   ]
  },
  {
   "cell_type": "code",
   "execution_count": 257,
   "metadata": {},
   "outputs": [
    {
     "data": {
      "text/plain": [
       "Text(0,0.5,'Number of Reviews')"
      ]
     },
     "execution_count": 257,
     "metadata": {},
     "output_type": "execute_result"
    },
    {
     "data": {
      "image/png": "[encoded data removed]",
      "text/plain": [
       "<Figure size 936x576 with 1 Axes>"
      ]
     },
     "metadata": {
      "needs_background": "light"
     },
     "output_type": "display_data"
    }
   ],
   "source": [
    "# We do another histogram here. \n",
    "\n",
    "fig1, ax1 = plt.subplots(figsize = (13,8))\n",
    "ax1.hist(not_BNM.score, bins=20, range = (8,10), rwidth  = 0.8, color='crimson')\n",
    "plt.xticks([8, 8.5, 9, 9.5, 10])\n",
    "ax1.set_title(\"Distribution of Reviews Across high-scoring, not-BNM Scores\", weight = 'bold')\n",
    "ax1.set_xlabel(\"High-scoring, not-BNM Album Score\", weight = 'bold')\n",
    "ax1.set_ylabel(\"Number of Reviews\", weight = 'bold')"
   ]
  },
  {
   "cell_type": "code",
   "execution_count": 258,
   "metadata": {},
   "outputs": [],
   "source": [
    "# Now, let's do the same for high-scoring BNM albums. \n",
    "\n",
    "yes_BNM = df_filters[df_filters['best_new_music'] == 1]"
   ]
  },
  {
   "cell_type": "code",
   "execution_count": 259,
   "metadata": {},
   "outputs": [
    {
     "data": {
      "text/plain": [
       "Text(0,0.5,'Number of Reviews')"
      ]
     },
     "execution_count": 259,
     "metadata": {},
     "output_type": "execute_result"
    },
    {
     "data": {
      "image/png": "[encoded data removed]",
      "text/plain": [
       "<Figure size 936x576 with 1 Axes>"
      ]
     },
     "metadata": {
      "needs_background": "light"
     },
     "output_type": "display_data"
    }
   ],
   "source": [
    "# We do another histogram here. \n",
    "\n",
    "fig1, ax1 = plt.subplots(figsize = (13,8))\n",
    "ax1.hist(yes_BNM.score, bins=20, range = (8,10), rwidth  = 0.8, color='green')\n",
    "plt.xticks([8, 8.5, 9, 9.5, 10])\n",
    "ax1.set_title(\"Distribution of Reviews Across high-scoring, BNM Scores\", weight = 'bold')\n",
    "ax1.set_xlabel(\"High-scoring, BNM Album Score\", weight = 'bold')\n",
    "ax1.set_ylabel(\"Number of Reviews\", weight = 'bold')"
   ]
  },
  {
   "cell_type": "markdown",
   "metadata": {},
   "source": [
    "That's an interesting finding: even though some albums get high scores, they still might not be assigned 'Best New Music' status. The distribution is expectedly resembling an exponential decay, with most falling into the 8.0 - 8.3 category, but it's still surprising to see that some high-scoring albums never got assigned Best New Music feature.\n",
    "\n",
    "The question is: is there any pattern to this? My assumption was that this could occur across two categories:\n",
    "\n",
    "* genre\n",
    "* label\n",
    "\n",
    "For example, I suspected that some high-scoring albums in non-mainstream genres and fairly obscure labels did not get assigned Best New Music. One way to check this was to define a metric called \"Best New Music-to-High Scoring Album\" Ratio, indicating number of BNM albums over all high-scoring albums in that particular category. "
   ]
  },
  {
   "cell_type": "code",
   "execution_count": 260,
   "metadata": {},
   "outputs": [],
   "source": [
    "# Let's do it according to genre\n",
    "\n",
    "genre_split_counts = df_filters.groupby([df_filters.genre, df_filters.best_new_music]).reviewid.count()"
   ]
  },
  {
   "cell_type": "code",
   "execution_count": 261,
   "metadata": {},
   "outputs": [
    {
     "data": {
      "text/plain": [
       "genre         best_new_music\n",
       "electronic    0                 411\n",
       "              1                 165\n",
       "experimental  0                 231\n",
       "              1                  98\n",
       "folk/country  0                  88\n",
       "              1                  25\n",
       "global        0                  38\n",
       "              1                   7\n",
       "jazz          0                  35\n",
       "              1                  14\n",
       "metal         0                 111\n",
       "              1                  18\n",
       "pop/r&b       0                  78\n",
       "              1                  59\n",
       "rap           0                 127\n",
       "              1                  60\n",
       "rock          0                 593\n",
       "              1                 301\n",
       "unknown       0                 301\n",
       "              1                  43\n",
       "Name: reviewid, dtype: int64"
      ]
     },
     "execution_count": 261,
     "metadata": {},
     "output_type": "execute_result"
    }
   ],
   "source": [
    "genre_split_counts"
   ]
  },
  {
   "cell_type": "code",
   "execution_count": 262,
   "metadata": {},
   "outputs": [],
   "source": [
    "# Let's get the total \n",
    "\n",
    "genre_count = df_filters.groupby([df_filters.genre]).reviewid.count()"
   ]
  },
  {
   "cell_type": "code",
   "execution_count": 263,
   "metadata": {},
   "outputs": [
    {
     "data": {
      "text/plain": [
       "genre\n",
       "electronic      576\n",
       "experimental    329\n",
       "folk/country    113\n",
       "global           45\n",
       "jazz             49\n",
       "metal           129\n",
       "pop/r&b         137\n",
       "rap             187\n",
       "rock            894\n",
       "unknown         344\n",
       "Name: reviewid, dtype: int64"
      ]
     },
     "execution_count": 263,
     "metadata": {},
     "output_type": "execute_result"
    }
   ],
   "source": [
    "genre_count"
   ]
  },
  {
   "cell_type": "code",
   "execution_count": 264,
   "metadata": {},
   "outputs": [],
   "source": [
    "# Let's extract all the ratios \n",
    "\n",
    "ratios = genre_split_counts/genre_count"
   ]
  },
  {
   "cell_type": "code",
   "execution_count": 265,
   "metadata": {},
   "outputs": [
    {
     "data": {
      "text/plain": [
       "genre         best_new_music\n",
       "electronic    0                 0.713542\n",
       "              1                 0.286458\n",
       "experimental  0                 0.702128\n",
       "              1                 0.297872\n",
       "folk/country  0                 0.778761\n",
       "              1                 0.221239\n",
       "global        0                 0.844444\n",
       "              1                 0.155556\n",
       "jazz          0                 0.714286\n",
       "              1                 0.285714\n",
       "metal         0                 0.860465\n",
       "              1                 0.139535\n",
       "pop/r&b       0                 0.569343\n",
       "              1                 0.430657\n",
       "rap           0                 0.679144\n",
       "              1                 0.320856\n",
       "rock          0                 0.663311\n",
       "              1                 0.336689\n",
       "unknown       0                 0.875000\n",
       "              1                 0.125000\n",
       "Name: reviewid, dtype: float64"
      ]
     },
     "execution_count": 265,
     "metadata": {},
     "output_type": "execute_result"
    }
   ],
   "source": [
    "ratios"
   ]
  },
  {
   "cell_type": "code",
   "execution_count": 266,
   "metadata": {},
   "outputs": [],
   "source": [
    "# Let's get the ratios within genre for Best New Music\n",
    "\n",
    "BNM_ratios_uncleaned = ratios[ratios.index.get_level_values('best_new_music') == 1]"
   ]
  },
  {
   "cell_type": "code",
   "execution_count": 267,
   "metadata": {},
   "outputs": [],
   "source": [
    "# Let's drop the multi-index, which used to be best_new_music, since they will all be 1. \n",
    "\n",
    "BNM_ratios_cleaned = BNM_ratios_uncleaned.reset_index(level=1, drop=True)"
   ]
  },
  {
   "cell_type": "code",
   "execution_count": 268,
   "metadata": {},
   "outputs": [],
   "source": [
    "# Let's sort them in decreasing order\n",
    "\n",
    "BNM_ratios = BNM_ratios_cleaned.sort_values(ascending=False)"
   ]
  },
  {
   "cell_type": "code",
   "execution_count": 269,
   "metadata": {},
   "outputs": [
    {
     "data": {
      "text/plain": [
       "genre\n",
       "pop/r&b         0.430657\n",
       "rock            0.336689\n",
       "rap             0.320856\n",
       "experimental    0.297872\n",
       "electronic      0.286458\n",
       "jazz            0.285714\n",
       "folk/country    0.221239\n",
       "global          0.155556\n",
       "metal           0.139535\n",
       "unknown         0.125000\n",
       "Name: reviewid, dtype: float64"
      ]
     },
     "execution_count": 269,
     "metadata": {},
     "output_type": "execute_result"
    }
   ],
   "source": [
    "BNM_ratios"
   ]
  },
  {
   "cell_type": "code",
   "execution_count": 270,
   "metadata": {},
   "outputs": [
    {
     "data": {
      "image/png": "[encoded data removed]",
      "text/plain": [
       "<Figure size 936x576 with 1 Axes>"
      ]
     },
     "metadata": {
      "needs_background": "light"
     },
     "output_type": "display_data"
    }
   ],
   "source": [
    "plt.figure(figsize=(13,8))\n",
    "BNM_ratios.plot(kind = 'bar', color = '#DAC1A1')\n",
    "plt.tight_layout()\n",
    "plt.xlabel('Genre', weight = 'bold')\n",
    "plt.ylabel('BNM-to-High Scoring Albums Ratio', weight = 'bold')\n",
    "plt.title('BNM-to-High Scoring Albums Ratio per Genre', weight = 'bold')\n",
    "plt.xticks(rotation = 70)\n",
    "plt.show()"
   ]
  },
  {
   "cell_type": "markdown",
   "metadata": {},
   "source": [
    "We can see that there is certainly a notable difference across genres, mostly between Pop & R&B, which get a fair number of Best-New-Music attribution compared to genres like Global, Metal. An 'unknown' genre in this case is not too insightful, but it does give us retrospective insight that genres in this category might not be the top ones like Pop, Rock, Electronic, and Experimental. Even without applying proportion-based confidence intervals, we can safely assume that Pitchfork does have bias toward particular genres when it comes to assigning Best New Music attribute. "
   ]
  },
  {
   "cell_type": "code",
   "execution_count": 271,
   "metadata": {},
   "outputs": [],
   "source": [
    "# Let's do the same for labels now, but only for the top 20, since there are too many labels. \n",
    "\n",
    "top_20_labels = df['label'].value_counts()[0:20]"
   ]
  },
  {
   "cell_type": "code",
   "execution_count": 272,
   "metadata": {},
   "outputs": [
    {
     "data": {
      "text/plain": [
       "Index([u'self-released', u'drag city', u'sub pop', u'thrill jockey', u'merge',\n",
       "       u'domino', u'warp', u'columbia', u'matador', u'astralwerks',\n",
       "       u'jagjaguwar', u'mute', u'secretly canadian', u'4ad', u'warner bros.',\n",
       "       u'atlantic', u'capitol', u'kranky', u'rough trade', u'interscope'],\n",
       "      dtype='object')"
      ]
     },
     "execution_count": 272,
     "metadata": {},
     "output_type": "execute_result"
    }
   ],
   "source": [
    "# What are the label keys?\n",
    "\n",
    "top_20_labels.keys()"
   ]
  },
  {
   "cell_type": "code",
   "execution_count": 273,
   "metadata": {},
   "outputs": [],
   "source": [
    "# We redefine the dataframe\n",
    "\n",
    "df_filters_l = df_filters[df_filters['label'].isin(top_20_labels.keys())]"
   ]
  },
  {
   "cell_type": "code",
   "execution_count": 274,
   "metadata": {},
   "outputs": [],
   "source": [
    "# Let's do the same for labels now\n",
    "\n",
    "label_split_counts = df_filters_l.groupby([df_filters_l.label, df_filters_l.best_new_music]).reviewid.count()"
   ]
  },
  {
   "cell_type": "code",
   "execution_count": 275,
   "metadata": {},
   "outputs": [],
   "source": [
    "# Let's get the total count per label\n",
    "\n",
    "label_counts = df_filters_l.groupby([df_filters_l.label]).reviewid.count()"
   ]
  },
  {
   "cell_type": "code",
   "execution_count": 276,
   "metadata": {},
   "outputs": [],
   "source": [
    "# Let's get the ratios\n",
    "\n",
    "ratios_labels = label_split_counts/label_counts"
   ]
  },
  {
   "cell_type": "code",
   "execution_count": 277,
   "metadata": {},
   "outputs": [],
   "source": [
    "# Let's get the ratios within label for Best New Music\n",
    "\n",
    "BNM_ratios_uncleaned_labels = ratios_labels[ratios_labels.index.get_level_values('best_new_music') == 1]"
   ]
  },
  {
   "cell_type": "code",
   "execution_count": 278,
   "metadata": {},
   "outputs": [],
   "source": [
    "# Let's drop the multi-index, which used to be best_new_music, since they will all be 1. \n",
    "\n",
    "BNM_ratios_cleaned_labels = BNM_ratios_uncleaned_labels.reset_index(level=1, drop=True)"
   ]
  },
  {
   "cell_type": "code",
   "execution_count": 279,
   "metadata": {},
   "outputs": [],
   "source": [
    "# Let's sort them in decreasing order\n",
    "\n",
    "BNM_ratios_labels = BNM_ratios_cleaned_labels.sort_values(ascending=False)"
   ]
  },
  {
   "cell_type": "code",
   "execution_count": 280,
   "metadata": {},
   "outputs": [
    {
     "data": {
      "text/plain": [
       "label\n",
       "interscope           0.666667\n",
       "secretly canadian    0.647059\n",
       "4ad                  0.622222\n",
       "domino               0.568966\n",
       "kranky               0.526316\n",
       "jagjaguwar           0.523810\n",
       "mute                 0.480000\n",
       "warp                 0.477273\n",
       "sub pop              0.433962\n",
       "columbia             0.409091\n",
       "matador              0.384615\n",
       "rough trade          0.375000\n",
       "capitol              0.333333\n",
       "self-released        0.317073\n",
       "merge                0.279070\n",
       "atlantic             0.272727\n",
       "drag city            0.268293\n",
       "astralwerks          0.240000\n",
       "warner bros.         0.166667\n",
       "thrill jockey        0.041667\n",
       "Name: reviewid, dtype: float64"
      ]
     },
     "execution_count": 280,
     "metadata": {},
     "output_type": "execute_result"
    }
   ],
   "source": [
    "BNM_ratios_labels"
   ]
  },
  {
   "cell_type": "code",
   "execution_count": 281,
   "metadata": {},
   "outputs": [
    {
     "data": {
      "image/png": "[encoded data removed]",
      "text/plain": [
       "<Figure size 936x576 with 1 Axes>"
      ]
     },
     "metadata": {
      "needs_background": "light"
     },
     "output_type": "display_data"
    }
   ],
   "source": [
    "plt.figure(figsize=(13,8))\n",
    "BNM_ratios_labels.plot(kind = 'bar', color = '#DE7281')\n",
    "plt.tight_layout()\n",
    "plt.xlabel('Label', weight = 'bold')\n",
    "plt.ylabel('BNM-to-High Scoring Albums Ratio', weight = 'bold')\n",
    "plt.title('BNM-to-High Scoring Albums Ratio per Label', weight = 'bold')\n",
    "plt.xticks(rotation = 70)\n",
    "plt.show()"
   ]
  },
  {
   "cell_type": "markdown",
   "metadata": {},
   "source": [
    "As was the case with genre, there seems to be some bias toward albums released on specific labels. Of course, there could be simply a correlation between such labels and genre of music, as well as the music taste of the editorial team, but it does show, for example, that Interscope, Secretly Canadian, and 4AD (for which I particularly suspected that Pitchfork would lean toward) tend to have more high-scoring albums classified as Best New Music. "
   ]
  },
  {
   "cell_type": "markdown",
   "metadata": {},
   "source": [
    "## Part 4: Data Extraction"
   ]
  },
  {
   "cell_type": "markdown",
   "metadata": {},
   "source": [
    "Here, I was mostly interested in extracting the portion of Pitchfork data in connection to some of the questions I had on their editorial opinion throughout the last few years. "
   ]
  },
  {
   "cell_type": "code",
   "execution_count": 282,
   "metadata": {},
   "outputs": [
    {
     "data": {
      "text/html": [
       "<div>\n",
       "<style scoped>\n",
       "    .dataframe tbody tr th:only-of-type {\n",
       "        vertical-align: middle;\n",
       "    }\n",
       "\n",
       "    .dataframe tbody tr th {\n",
       "        vertical-align: top;\n",
       "    }\n",
       "\n",
       "    .dataframe thead th {\n",
       "        text-align: right;\n",
       "    }\n",
       "</style>\n",
       "<table border=\"1\" class=\"dataframe\">\n",
       "  <thead>\n",
       "    <tr style=\"text-align: right;\">\n",
       "      <th></th>\n",
       "      <th>reviewid</th>\n",
       "      <th>title</th>\n",
       "      <th>artist</th>\n",
       "      <th>score</th>\n",
       "      <th>best_new_music</th>\n",
       "      <th>pub_day</th>\n",
       "      <th>pub_month</th>\n",
       "      <th>pub_year</th>\n",
       "      <th>label</th>\n",
       "      <th>genre</th>\n",
       "      <th>year</th>\n",
       "    </tr>\n",
       "  </thead>\n",
       "  <tbody>\n",
       "    <tr>\n",
       "      <th>191</th>\n",
       "      <td>22374</td>\n",
       "      <td>metal box</td>\n",
       "      <td>public image ltd</td>\n",
       "      <td>10.0</td>\n",
       "      <td>1</td>\n",
       "      <td>1</td>\n",
       "      <td>11</td>\n",
       "      <td>2016</td>\n",
       "      <td>universal</td>\n",
       "      <td>rock</td>\n",
       "      <td>1979</td>\n",
       "    </tr>\n",
       "    <tr>\n",
       "      <th>200</th>\n",
       "      <td>22485</td>\n",
       "      <td>blood on the tracks</td>\n",
       "      <td>bob dylan</td>\n",
       "      <td>10.0</td>\n",
       "      <td>0</td>\n",
       "      <td>30</td>\n",
       "      <td>10</td>\n",
       "      <td>2016</td>\n",
       "      <td>columbia</td>\n",
       "      <td>rock</td>\n",
       "      <td>1975</td>\n",
       "    </tr>\n",
       "    <tr>\n",
       "      <th>354</th>\n",
       "      <td>22061</td>\n",
       "      <td>another green world</td>\n",
       "      <td>brian eno</td>\n",
       "      <td>10.0</td>\n",
       "      <td>0</td>\n",
       "      <td>18</td>\n",
       "      <td>9</td>\n",
       "      <td>2016</td>\n",
       "      <td>island</td>\n",
       "      <td>experimental</td>\n",
       "      <td>1975</td>\n",
       "    </tr>\n",
       "    <tr>\n",
       "      <th>450</th>\n",
       "      <td>22174</td>\n",
       "      <td>songs in the key of life</td>\n",
       "      <td>stevie wonder</td>\n",
       "      <td>10.0</td>\n",
       "      <td>0</td>\n",
       "      <td>21</td>\n",
       "      <td>8</td>\n",
       "      <td>2016</td>\n",
       "      <td>motown</td>\n",
       "      <td>pop/r&amp;b</td>\n",
       "      <td>1976</td>\n",
       "    </tr>\n",
       "    <tr>\n",
       "      <th>529</th>\n",
       "      <td>22159</td>\n",
       "      <td>in concert</td>\n",
       "      <td>nina simone</td>\n",
       "      <td>10.0</td>\n",
       "      <td>0</td>\n",
       "      <td>30</td>\n",
       "      <td>7</td>\n",
       "      <td>2016</td>\n",
       "      <td>philips</td>\n",
       "      <td>jazz</td>\n",
       "      <td>1964</td>\n",
       "    </tr>\n",
       "    <tr>\n",
       "      <th>652</th>\n",
       "      <td>22053</td>\n",
       "      <td>tonight's the night</td>\n",
       "      <td>neil young</td>\n",
       "      <td>10.0</td>\n",
       "      <td>0</td>\n",
       "      <td>26</td>\n",
       "      <td>6</td>\n",
       "      <td>2016</td>\n",
       "      <td>reprise</td>\n",
       "      <td>rock</td>\n",
       "      <td>1975</td>\n",
       "    </tr>\n",
       "    <tr>\n",
       "      <th>704</th>\n",
       "      <td>21964</td>\n",
       "      <td>hounds of love</td>\n",
       "      <td>kate bush</td>\n",
       "      <td>10.0</td>\n",
       "      <td>0</td>\n",
       "      <td>12</td>\n",
       "      <td>6</td>\n",
       "      <td>2016</td>\n",
       "      <td>emi</td>\n",
       "      <td>pop/r&amp;b</td>\n",
       "      <td>1985</td>\n",
       "    </tr>\n",
       "    <tr>\n",
       "      <th>854</th>\n",
       "      <td>21845</td>\n",
       "      <td>sign \"o\" the times</td>\n",
       "      <td>prince</td>\n",
       "      <td>10.0</td>\n",
       "      <td>0</td>\n",
       "      <td>30</td>\n",
       "      <td>4</td>\n",
       "      <td>2016</td>\n",
       "      <td>paisley park</td>\n",
       "      <td>pop/r&amp;b</td>\n",
       "      <td>1987</td>\n",
       "    </tr>\n",
       "    <tr>\n",
       "      <th>855</th>\n",
       "      <td>21842</td>\n",
       "      <td>1999</td>\n",
       "      <td>prince</td>\n",
       "      <td>10.0</td>\n",
       "      <td>0</td>\n",
       "      <td>30</td>\n",
       "      <td>4</td>\n",
       "      <td>2016</td>\n",
       "      <td>warner bros.</td>\n",
       "      <td>pop/r&amp;b</td>\n",
       "      <td>1982</td>\n",
       "    </tr>\n",
       "    <tr>\n",
       "      <th>858</th>\n",
       "      <td>21841</td>\n",
       "      <td>purple rain</td>\n",
       "      <td>prince, the revolution</td>\n",
       "      <td>10.0</td>\n",
       "      <td>0</td>\n",
       "      <td>29</td>\n",
       "      <td>4</td>\n",
       "      <td>2016</td>\n",
       "      <td>warner bros.</td>\n",
       "      <td>pop/r&amp;b</td>\n",
       "      <td>1984</td>\n",
       "    </tr>\n",
       "    <tr>\n",
       "      <th>859</th>\n",
       "      <td>21866</td>\n",
       "      <td>dirty mind</td>\n",
       "      <td>prince</td>\n",
       "      <td>10.0</td>\n",
       "      <td>0</td>\n",
       "      <td>29</td>\n",
       "      <td>4</td>\n",
       "      <td>2016</td>\n",
       "      <td>warner bros.</td>\n",
       "      <td>pop/r&amp;b</td>\n",
       "      <td>1980</td>\n",
       "    </tr>\n",
       "    <tr>\n",
       "      <th>1089</th>\n",
       "      <td>21548</td>\n",
       "      <td>off the wall</td>\n",
       "      <td>michael jackson</td>\n",
       "      <td>10.0</td>\n",
       "      <td>1</td>\n",
       "      <td>24</td>\n",
       "      <td>2</td>\n",
       "      <td>2016</td>\n",
       "      <td>legacy</td>\n",
       "      <td>pop/r&amp;b</td>\n",
       "      <td>1979</td>\n",
       "    </tr>\n",
       "    <tr>\n",
       "      <th>1204</th>\n",
       "      <td>21487</td>\n",
       "      <td>\"heroes\"</td>\n",
       "      <td>david bowie</td>\n",
       "      <td>10.0</td>\n",
       "      <td>0</td>\n",
       "      <td>22</td>\n",
       "      <td>1</td>\n",
       "      <td>2016</td>\n",
       "      <td>rca</td>\n",
       "      <td>rock</td>\n",
       "      <td>1977</td>\n",
       "    </tr>\n",
       "    <tr>\n",
       "      <th>1206</th>\n",
       "      <td>21478</td>\n",
       "      <td>low</td>\n",
       "      <td>david bowie</td>\n",
       "      <td>10.0</td>\n",
       "      <td>0</td>\n",
       "      <td>22</td>\n",
       "      <td>1</td>\n",
       "      <td>2016</td>\n",
       "      <td>rca</td>\n",
       "      <td>rock</td>\n",
       "      <td>1977</td>\n",
       "    </tr>\n",
       "    <tr>\n",
       "      <th>1329</th>\n",
       "      <td>21158</td>\n",
       "      <td>a love supreme: the complete masters</td>\n",
       "      <td>john coltrane</td>\n",
       "      <td>10.0</td>\n",
       "      <td>1</td>\n",
       "      <td>25</td>\n",
       "      <td>11</td>\n",
       "      <td>2015</td>\n",
       "      <td>verve</td>\n",
       "      <td>jazz</td>\n",
       "      <td>2015</td>\n",
       "    </tr>\n",
       "    <tr>\n",
       "      <th>1369</th>\n",
       "      <td>21218</td>\n",
       "      <td>people's instinctive travels and the paths of ...</td>\n",
       "      <td>a tribe called quest</td>\n",
       "      <td>10.0</td>\n",
       "      <td>1</td>\n",
       "      <td>13</td>\n",
       "      <td>11</td>\n",
       "      <td>2015</td>\n",
       "      <td>legacy</td>\n",
       "      <td>rap</td>\n",
       "      <td>1990</td>\n",
       "    </tr>\n",
       "    <tr>\n",
       "      <th>1396</th>\n",
       "      <td>21092</td>\n",
       "      <td>astral weeks</td>\n",
       "      <td>van morrison</td>\n",
       "      <td>10.0</td>\n",
       "      <td>1</td>\n",
       "      <td>6</td>\n",
       "      <td>11</td>\n",
       "      <td>2015</td>\n",
       "      <td>warner bros.</td>\n",
       "      <td>rock</td>\n",
       "      <td>1968</td>\n",
       "    </tr>\n",
       "    <tr>\n",
       "      <th>1404</th>\n",
       "      <td>21220</td>\n",
       "      <td>loaded: re-loaded 45th anniversary edition</td>\n",
       "      <td>the velvet underground</td>\n",
       "      <td>10.0</td>\n",
       "      <td>1</td>\n",
       "      <td>4</td>\n",
       "      <td>11</td>\n",
       "      <td>2015</td>\n",
       "      <td>atlantic</td>\n",
       "      <td>rock</td>\n",
       "      <td>1970</td>\n",
       "    </tr>\n",
       "    <tr>\n",
       "      <th>1843</th>\n",
       "      <td>20483</td>\n",
       "      <td>sticky fingers</td>\n",
       "      <td>the rolling stones</td>\n",
       "      <td>10.0</td>\n",
       "      <td>1</td>\n",
       "      <td>19</td>\n",
       "      <td>6</td>\n",
       "      <td>2015</td>\n",
       "      <td>rolling stones</td>\n",
       "      <td>rock</td>\n",
       "      <td>1971</td>\n",
       "    </tr>\n",
       "    <tr>\n",
       "      <th>2469</th>\n",
       "      <td>19997</td>\n",
       "      <td>it takes a nation of millions to hold us back</td>\n",
       "      <td>public enemy</td>\n",
       "      <td>10.0</td>\n",
       "      <td>1</td>\n",
       "      <td>25</td>\n",
       "      <td>11</td>\n",
       "      <td>2014</td>\n",
       "      <td>def jam</td>\n",
       "      <td>rap</td>\n",
       "      <td>1988</td>\n",
       "    </tr>\n",
       "    <tr>\n",
       "      <th>2474</th>\n",
       "      <td>20015</td>\n",
       "      <td>the velvet underground  45th anniversary super...</td>\n",
       "      <td>the velvet underground</td>\n",
       "      <td>10.0</td>\n",
       "      <td>1</td>\n",
       "      <td>24</td>\n",
       "      <td>11</td>\n",
       "      <td>2014</td>\n",
       "      <td>polydor</td>\n",
       "      <td>rock</td>\n",
       "      <td>1969</td>\n",
       "    </tr>\n",
       "    <tr>\n",
       "      <th>3209</th>\n",
       "      <td>19182</td>\n",
       "      <td>spiderland</td>\n",
       "      <td>slint</td>\n",
       "      <td>10.0</td>\n",
       "      <td>1</td>\n",
       "      <td>16</td>\n",
       "      <td>4</td>\n",
       "      <td>2014</td>\n",
       "      <td>touch and go</td>\n",
       "      <td>rock</td>\n",
       "      <td>1991</td>\n",
       "    </tr>\n",
       "    <tr>\n",
       "      <th>3234</th>\n",
       "      <td>19240</td>\n",
       "      <td>the infamous</td>\n",
       "      <td>mobb deep</td>\n",
       "      <td>10.0</td>\n",
       "      <td>1</td>\n",
       "      <td>9</td>\n",
       "      <td>4</td>\n",
       "      <td>2014</td>\n",
       "      <td>self-released</td>\n",
       "      <td>rap</td>\n",
       "      <td>1995</td>\n",
       "    </tr>\n",
       "    <tr>\n",
       "      <th>3525</th>\n",
       "      <td>18770</td>\n",
       "      <td>white light/white heat</td>\n",
       "      <td>the velvet underground</td>\n",
       "      <td>10.0</td>\n",
       "      <td>1</td>\n",
       "      <td>16</td>\n",
       "      <td>1</td>\n",
       "      <td>2014</td>\n",
       "      <td>universal</td>\n",
       "      <td>rock</td>\n",
       "      <td>1968</td>\n",
       "    </tr>\n",
       "    <tr>\n",
       "      <th>3845</th>\n",
       "      <td>18517</td>\n",
       "      <td>in utero: 20th anniversary edition</td>\n",
       "      <td>nirvana</td>\n",
       "      <td>10.0</td>\n",
       "      <td>1</td>\n",
       "      <td>24</td>\n",
       "      <td>9</td>\n",
       "      <td>2013</td>\n",
       "      <td>universal</td>\n",
       "      <td>rock</td>\n",
       "      <td>1993</td>\n",
       "    </tr>\n",
       "    <tr>\n",
       "      <th>4625</th>\n",
       "      <td>17499</td>\n",
       "      <td>rumours</td>\n",
       "      <td>fleetwood mac</td>\n",
       "      <td>10.0</td>\n",
       "      <td>1</td>\n",
       "      <td>8</td>\n",
       "      <td>2</td>\n",
       "      <td>2013</td>\n",
       "      <td>rhino</td>\n",
       "      <td>rock</td>\n",
       "      <td>1977</td>\n",
       "    </tr>\n",
       "    <tr>\n",
       "      <th>4685</th>\n",
       "      <td>17497</td>\n",
       "      <td>illmatic</td>\n",
       "      <td>nas</td>\n",
       "      <td>10.0</td>\n",
       "      <td>1</td>\n",
       "      <td>23</td>\n",
       "      <td>1</td>\n",
       "      <td>2013</td>\n",
       "      <td>get on down</td>\n",
       "      <td>rap</td>\n",
       "      <td>1994</td>\n",
       "    </tr>\n",
       "    <tr>\n",
       "      <th>4710</th>\n",
       "      <td>17510</td>\n",
       "      <td>donuts (45 box set)</td>\n",
       "      <td>j dilla</td>\n",
       "      <td>10.0</td>\n",
       "      <td>1</td>\n",
       "      <td>16</td>\n",
       "      <td>1</td>\n",
       "      <td>2013</td>\n",
       "      <td>stones throw</td>\n",
       "      <td>rap</td>\n",
       "      <td>2006</td>\n",
       "    </tr>\n",
       "    <tr>\n",
       "      <th>4774</th>\n",
       "      <td>17407</td>\n",
       "      <td>voodoo</td>\n",
       "      <td>dangelo</td>\n",
       "      <td>10.0</td>\n",
       "      <td>1</td>\n",
       "      <td>12</td>\n",
       "      <td>12</td>\n",
       "      <td>2012</td>\n",
       "      <td>light in the attic</td>\n",
       "      <td>pop/r&amp;b</td>\n",
       "      <td>2000</td>\n",
       "    </tr>\n",
       "    <tr>\n",
       "      <th>4849</th>\n",
       "      <td>17064</td>\n",
       "      <td>the disintegration loops</td>\n",
       "      <td>william basinski</td>\n",
       "      <td>10.0</td>\n",
       "      <td>1</td>\n",
       "      <td>19</td>\n",
       "      <td>11</td>\n",
       "      <td>2012</td>\n",
       "      <td>temporary residence</td>\n",
       "      <td>experimental</td>\n",
       "      <td>2012</td>\n",
       "    </tr>\n",
       "    <tr>\n",
       "      <th>5234</th>\n",
       "      <td>16857</td>\n",
       "      <td>liquid swords: chess box deluxe edition</td>\n",
       "      <td>gza</td>\n",
       "      <td>10.0</td>\n",
       "      <td>1</td>\n",
       "      <td>27</td>\n",
       "      <td>7</td>\n",
       "      <td>2012</td>\n",
       "      <td>geffen/get on down</td>\n",
       "      <td>rap</td>\n",
       "      <td>1995</td>\n",
       "    </tr>\n",
       "    <tr>\n",
       "      <th>5478</th>\n",
       "      <td>16605</td>\n",
       "      <td>isn't anything</td>\n",
       "      <td>my bloody valentine</td>\n",
       "      <td>10.0</td>\n",
       "      <td>1</td>\n",
       "      <td>11</td>\n",
       "      <td>5</td>\n",
       "      <td>2012</td>\n",
       "      <td>sony</td>\n",
       "      <td>experimental</td>\n",
       "      <td>1988</td>\n",
       "    </tr>\n",
       "    <tr>\n",
       "      <th>5945</th>\n",
       "      <td>16075</td>\n",
       "      <td>tago mago [40th anniversary edition]</td>\n",
       "      <td>can</td>\n",
       "      <td>10.0</td>\n",
       "      <td>0</td>\n",
       "      <td>9</td>\n",
       "      <td>12</td>\n",
       "      <td>2011</td>\n",
       "      <td>mute</td>\n",
       "      <td>experimental</td>\n",
       "      <td>1971</td>\n",
       "    </tr>\n",
       "    <tr>\n",
       "      <th>6068</th>\n",
       "      <td>16000</td>\n",
       "      <td>the smile sessions</td>\n",
       "      <td>the beach boys</td>\n",
       "      <td>10.0</td>\n",
       "      <td>1</td>\n",
       "      <td>2</td>\n",
       "      <td>11</td>\n",
       "      <td>2011</td>\n",
       "      <td>capitol</td>\n",
       "      <td>rock</td>\n",
       "      <td>2011</td>\n",
       "    </tr>\n",
       "    <tr>\n",
       "      <th>6107</th>\n",
       "      <td>15957</td>\n",
       "      <td>laughing stock</td>\n",
       "      <td>talk talk</td>\n",
       "      <td>10.0</td>\n",
       "      <td>1</td>\n",
       "      <td>21</td>\n",
       "      <td>10</td>\n",
       "      <td>2011</td>\n",
       "      <td>ba da bing!</td>\n",
       "      <td>rock</td>\n",
       "      <td>2011</td>\n",
       "    </tr>\n",
       "    <tr>\n",
       "      <th>6197</th>\n",
       "      <td>15854</td>\n",
       "      <td>nevermind [20th anniversary edition]</td>\n",
       "      <td>nirvana</td>\n",
       "      <td>10.0</td>\n",
       "      <td>0</td>\n",
       "      <td>27</td>\n",
       "      <td>9</td>\n",
       "      <td>2011</td>\n",
       "      <td>geffen</td>\n",
       "      <td>rock</td>\n",
       "      <td>2011</td>\n",
       "    </tr>\n",
       "    <tr>\n",
       "      <th>7069</th>\n",
       "      <td>14979</td>\n",
       "      <td>emergency &amp; i [vinyl reissue]</td>\n",
       "      <td>the dismemberment plan</td>\n",
       "      <td>10.0</td>\n",
       "      <td>1</td>\n",
       "      <td>11</td>\n",
       "      <td>1</td>\n",
       "      <td>2011</td>\n",
       "      <td>barsuk</td>\n",
       "      <td>rock</td>\n",
       "      <td>2011</td>\n",
       "    </tr>\n",
       "    <tr>\n",
       "      <th>7164</th>\n",
       "      <td>14880</td>\n",
       "      <td>my beautiful dark twisted fantasy</td>\n",
       "      <td>kanye west</td>\n",
       "      <td>10.0</td>\n",
       "      <td>1</td>\n",
       "      <td>22</td>\n",
       "      <td>11</td>\n",
       "      <td>2010</td>\n",
       "      <td>def jam</td>\n",
       "      <td>rap</td>\n",
       "      <td>2010</td>\n",
       "    </tr>\n",
       "    <tr>\n",
       "      <th>7706</th>\n",
       "      <td>14288</td>\n",
       "      <td>disintegration [deluxe edition]</td>\n",
       "      <td>the cure</td>\n",
       "      <td>10.0</td>\n",
       "      <td>1</td>\n",
       "      <td>10</td>\n",
       "      <td>6</td>\n",
       "      <td>2010</td>\n",
       "      <td>rhino</td>\n",
       "      <td>rock</td>\n",
       "      <td>2010</td>\n",
       "    </tr>\n",
       "    <tr>\n",
       "      <th>7781</th>\n",
       "      <td>14264</td>\n",
       "      <td>exile on main st. [deluxe edition]</td>\n",
       "      <td>the rolling stones</td>\n",
       "      <td>10.0</td>\n",
       "      <td>1</td>\n",
       "      <td>19</td>\n",
       "      <td>5</td>\n",
       "      <td>2010</td>\n",
       "      <td>universal</td>\n",
       "      <td>rock</td>\n",
       "      <td>2010</td>\n",
       "    </tr>\n",
       "    <tr>\n",
       "      <th>8039</th>\n",
       "      <td>14002</td>\n",
       "      <td>quarantine the past</td>\n",
       "      <td>pavement</td>\n",
       "      <td>10.0</td>\n",
       "      <td>1</td>\n",
       "      <td>8</td>\n",
       "      <td>3</td>\n",
       "      <td>2010</td>\n",
       "      <td>domino</td>\n",
       "      <td>rock</td>\n",
       "      <td>2010</td>\n",
       "    </tr>\n",
       "    <tr>\n",
       "      <th>8059</th>\n",
       "      <td>13984</td>\n",
       "      <td>ladies and gentlemen we are floating in space ...</td>\n",
       "      <td>spiritualized</td>\n",
       "      <td>10.0</td>\n",
       "      <td>1</td>\n",
       "      <td>2</td>\n",
       "      <td>3</td>\n",
       "      <td>2010</td>\n",
       "      <td>atp</td>\n",
       "      <td>experimental</td>\n",
       "      <td>2009</td>\n",
       "    </tr>\n",
       "    <tr>\n",
       "      <th>8582</th>\n",
       "      <td>13449</td>\n",
       "      <td>the stone roses</td>\n",
       "      <td>the stone roses</td>\n",
       "      <td>10.0</td>\n",
       "      <td>1</td>\n",
       "      <td>11</td>\n",
       "      <td>9</td>\n",
       "      <td>2009</td>\n",
       "      <td>sony</td>\n",
       "      <td>rock</td>\n",
       "      <td>2009</td>\n",
       "    </tr>\n",
       "    <tr>\n",
       "      <th>8587</th>\n",
       "      <td>13432</td>\n",
       "      <td>the beatles</td>\n",
       "      <td>the beatles</td>\n",
       "      <td>10.0</td>\n",
       "      <td>0</td>\n",
       "      <td>10</td>\n",
       "      <td>9</td>\n",
       "      <td>2009</td>\n",
       "      <td>emi</td>\n",
       "      <td>rock</td>\n",
       "      <td>1968</td>\n",
       "    </tr>\n",
       "    <tr>\n",
       "      <th>8589</th>\n",
       "      <td>13431</td>\n",
       "      <td>abbey road</td>\n",
       "      <td>the beatles</td>\n",
       "      <td>10.0</td>\n",
       "      <td>0</td>\n",
       "      <td>10</td>\n",
       "      <td>9</td>\n",
       "      <td>2009</td>\n",
       "      <td>emi</td>\n",
       "      <td>rock</td>\n",
       "      <td>1969</td>\n",
       "    </tr>\n",
       "    <tr>\n",
       "      <th>8592</th>\n",
       "      <td>13433</td>\n",
       "      <td>rubber soul</td>\n",
       "      <td>the beatles</td>\n",
       "      <td>10.0</td>\n",
       "      <td>0</td>\n",
       "      <td>9</td>\n",
       "      <td>9</td>\n",
       "      <td>2009</td>\n",
       "      <td>emi</td>\n",
       "      <td>rock</td>\n",
       "      <td>1965</td>\n",
       "    </tr>\n",
       "    <tr>\n",
       "      <th>8593</th>\n",
       "      <td>13434</td>\n",
       "      <td>revolver</td>\n",
       "      <td>the beatles</td>\n",
       "      <td>10.0</td>\n",
       "      <td>0</td>\n",
       "      <td>9</td>\n",
       "      <td>9</td>\n",
       "      <td>2009</td>\n",
       "      <td>emi</td>\n",
       "      <td>rock</td>\n",
       "      <td>1966</td>\n",
       "    </tr>\n",
       "    <tr>\n",
       "      <th>8594</th>\n",
       "      <td>13435</td>\n",
       "      <td>sgt. pepper's lonely hearts club band</td>\n",
       "      <td>the beatles</td>\n",
       "      <td>10.0</td>\n",
       "      <td>0</td>\n",
       "      <td>9</td>\n",
       "      <td>9</td>\n",
       "      <td>2009</td>\n",
       "      <td>emi</td>\n",
       "      <td>rock</td>\n",
       "      <td>1967</td>\n",
       "    </tr>\n",
       "    <tr>\n",
       "      <th>8595</th>\n",
       "      <td>13436</td>\n",
       "      <td>magical mystery tour</td>\n",
       "      <td>the beatles</td>\n",
       "      <td>10.0</td>\n",
       "      <td>0</td>\n",
       "      <td>9</td>\n",
       "      <td>9</td>\n",
       "      <td>2009</td>\n",
       "      <td>emi</td>\n",
       "      <td>rock</td>\n",
       "      <td>1967</td>\n",
       "    </tr>\n",
       "    <tr>\n",
       "      <th>8602</th>\n",
       "      <td>13425</td>\n",
       "      <td>stereo box</td>\n",
       "      <td>the beatles</td>\n",
       "      <td>10.0</td>\n",
       "      <td>1</td>\n",
       "      <td>7</td>\n",
       "      <td>9</td>\n",
       "      <td>2009</td>\n",
       "      <td>emi</td>\n",
       "      <td>rock</td>\n",
       "      <td>2009</td>\n",
       "    </tr>\n",
       "    <tr>\n",
       "      <th>8641</th>\n",
       "      <td>13385</td>\n",
       "      <td>kid a: special collectors edition</td>\n",
       "      <td>radiohead</td>\n",
       "      <td>10.0</td>\n",
       "      <td>1</td>\n",
       "      <td>25</td>\n",
       "      <td>8</td>\n",
       "      <td>2009</td>\n",
       "      <td>capitol</td>\n",
       "      <td>rock</td>\n",
       "      <td>2009</td>\n",
       "    </tr>\n",
       "    <tr>\n",
       "      <th>8795</th>\n",
       "      <td>13130</td>\n",
       "      <td>reckoning [deluxe edition]</td>\n",
       "      <td>r.e.m.</td>\n",
       "      <td>10.0</td>\n",
       "      <td>1</td>\n",
       "      <td>2</td>\n",
       "      <td>7</td>\n",
       "      <td>2009</td>\n",
       "      <td>a&amp;m</td>\n",
       "      <td>rock</td>\n",
       "      <td>2009</td>\n",
       "    </tr>\n",
       "    <tr>\n",
       "      <th>9139</th>\n",
       "      <td>12852</td>\n",
       "      <td>histoire de melody nelson</td>\n",
       "      <td>serge gainsbourg</td>\n",
       "      <td>10.0</td>\n",
       "      <td>1</td>\n",
       "      <td>26</td>\n",
       "      <td>3</td>\n",
       "      <td>2009</td>\n",
       "      <td>light in the attic</td>\n",
       "      <td>pop/r&amp;b</td>\n",
       "      <td>1971</td>\n",
       "    </tr>\n",
       "    <tr>\n",
       "      <th>9278</th>\n",
       "      <td>12671</td>\n",
       "      <td>paul's boutique</td>\n",
       "      <td>beastie boys</td>\n",
       "      <td>10.0</td>\n",
       "      <td>1</td>\n",
       "      <td>13</td>\n",
       "      <td>2</td>\n",
       "      <td>2009</td>\n",
       "      <td>capitol</td>\n",
       "      <td>rap</td>\n",
       "      <td>1989</td>\n",
       "    </tr>\n",
       "    <tr>\n",
       "      <th>9482</th>\n",
       "      <td>12464</td>\n",
       "      <td>murmur [deluxe edition]</td>\n",
       "      <td>r.e.m.</td>\n",
       "      <td>10.0</td>\n",
       "      <td>0</td>\n",
       "      <td>24</td>\n",
       "      <td>11</td>\n",
       "      <td>2008</td>\n",
       "      <td>irs</td>\n",
       "      <td>rock</td>\n",
       "      <td>2008</td>\n",
       "    </tr>\n",
       "    <tr>\n",
       "      <th>10141</th>\n",
       "      <td>11376</td>\n",
       "      <td>otis blue: otis redding sings soul [collector'...</td>\n",
       "      <td>otis redding</td>\n",
       "      <td>10.0</td>\n",
       "      <td>0</td>\n",
       "      <td>9</td>\n",
       "      <td>5</td>\n",
       "      <td>2008</td>\n",
       "      <td>rhino</td>\n",
       "      <td>pop/r&amp;b</td>\n",
       "      <td>1965</td>\n",
       "    </tr>\n",
       "    <tr>\n",
       "      <th>10765</th>\n",
       "      <td>11624</td>\n",
       "      <td>unknown pleasures</td>\n",
       "      <td>joy division</td>\n",
       "      <td>10.0</td>\n",
       "      <td>0</td>\n",
       "      <td>29</td>\n",
       "      <td>10</td>\n",
       "      <td>2007</td>\n",
       "      <td>factory</td>\n",
       "      <td>rock</td>\n",
       "      <td>1979</td>\n",
       "    </tr>\n",
       "    <tr>\n",
       "      <th>11240</th>\n",
       "      <td>10326</td>\n",
       "      <td>daydream nation: deluxe edition</td>\n",
       "      <td>sonic youth</td>\n",
       "      <td>10.0</td>\n",
       "      <td>0</td>\n",
       "      <td>13</td>\n",
       "      <td>6</td>\n",
       "      <td>2007</td>\n",
       "      <td>enigma</td>\n",
       "      <td>rock</td>\n",
       "      <td>1988</td>\n",
       "    </tr>\n",
       "    <tr>\n",
       "      <th>12556</th>\n",
       "      <td>11866</td>\n",
       "      <td>pink flag</td>\n",
       "      <td>wire</td>\n",
       "      <td>10.0</td>\n",
       "      <td>0</td>\n",
       "      <td>5</td>\n",
       "      <td>5</td>\n",
       "      <td>2006</td>\n",
       "      <td>harvest</td>\n",
       "      <td>rock</td>\n",
       "      <td>1977</td>\n",
       "    </tr>\n",
       "    <tr>\n",
       "      <th>13087</th>\n",
       "      <td>7728</td>\n",
       "      <td>born to run: 30th anniversary edition</td>\n",
       "      <td>bruce springsteen</td>\n",
       "      <td>10.0</td>\n",
       "      <td>0</td>\n",
       "      <td>18</td>\n",
       "      <td>11</td>\n",
       "      <td>2005</td>\n",
       "      <td>columbia</td>\n",
       "      <td>rock</td>\n",
       "      <td>2005</td>\n",
       "    </tr>\n",
       "    <tr>\n",
       "      <th>13274</th>\n",
       "      <td>5758</td>\n",
       "      <td>in the aeroplane over the sea</td>\n",
       "      <td>neutral milk hotel</td>\n",
       "      <td>10.0</td>\n",
       "      <td>0</td>\n",
       "      <td>26</td>\n",
       "      <td>9</td>\n",
       "      <td>2005</td>\n",
       "      <td>merge</td>\n",
       "      <td>rock</td>\n",
       "      <td>1998</td>\n",
       "    </tr>\n",
       "    <tr>\n",
       "      <th>13636</th>\n",
       "      <td>2377</td>\n",
       "      <td>endtroducing... [deluxe edition]</td>\n",
       "      <td>dj shadow</td>\n",
       "      <td>10.0</td>\n",
       "      <td>0</td>\n",
       "      <td>9</td>\n",
       "      <td>6</td>\n",
       "      <td>2005</td>\n",
       "      <td>mo'wax</td>\n",
       "      <td>electronic</td>\n",
       "      <td>1996</td>\n",
       "    </tr>\n",
       "    <tr>\n",
       "      <th>14344</th>\n",
       "      <td>6200</td>\n",
       "      <td>crooked rain, crooked rain: la's desert origins</td>\n",
       "      <td>pavement</td>\n",
       "      <td>10.0</td>\n",
       "      <td>0</td>\n",
       "      <td>25</td>\n",
       "      <td>10</td>\n",
       "      <td>2004</td>\n",
       "      <td>matador</td>\n",
       "      <td>rock</td>\n",
       "      <td>1994</td>\n",
       "    </tr>\n",
       "    <tr>\n",
       "      <th>14463</th>\n",
       "      <td>1490</td>\n",
       "      <td>london calling: 25th anniversary legacy edition</td>\n",
       "      <td>the clash</td>\n",
       "      <td>10.0</td>\n",
       "      <td>0</td>\n",
       "      <td>21</td>\n",
       "      <td>9</td>\n",
       "      <td>2004</td>\n",
       "      <td>epic</td>\n",
       "      <td>rock</td>\n",
       "      <td>2004</td>\n",
       "    </tr>\n",
       "    <tr>\n",
       "      <th>14925</th>\n",
       "      <td>838</td>\n",
       "      <td>music has the right to children</td>\n",
       "      <td>boards of canada</td>\n",
       "      <td>10.0</td>\n",
       "      <td>0</td>\n",
       "      <td>26</td>\n",
       "      <td>4</td>\n",
       "      <td>2004</td>\n",
       "      <td>warp</td>\n",
       "      <td>electronic</td>\n",
       "      <td>1998</td>\n",
       "    </tr>\n",
       "    <tr>\n",
       "      <th>15008</th>\n",
       "      <td>976</td>\n",
       "      <td>live at the apollo [expanded edition]</td>\n",
       "      <td>james brown</td>\n",
       "      <td>10.0</td>\n",
       "      <td>0</td>\n",
       "      <td>30</td>\n",
       "      <td>3</td>\n",
       "      <td>2004</td>\n",
       "      <td>king</td>\n",
       "      <td>rock</td>\n",
       "      <td>1963</td>\n",
       "    </tr>\n",
       "    <tr>\n",
       "      <th>15160</th>\n",
       "      <td>1969</td>\n",
       "      <td>no thanks!: the 70s punk rebellion</td>\n",
       "      <td>various artists</td>\n",
       "      <td>10.0</td>\n",
       "      <td>0</td>\n",
       "      <td>10</td>\n",
       "      <td>2</td>\n",
       "      <td>2004</td>\n",
       "      <td>rhino</td>\n",
       "      <td>unknown</td>\n",
       "      <td>2004</td>\n",
       "    </tr>\n",
       "    <tr>\n",
       "      <th>15284</th>\n",
       "      <td>11853</td>\n",
       "      <td>marquee moon</td>\n",
       "      <td>television</td>\n",
       "      <td>10.0</td>\n",
       "      <td>0</td>\n",
       "      <td>9</td>\n",
       "      <td>12</td>\n",
       "      <td>2003</td>\n",
       "      <td>elektra</td>\n",
       "      <td>electronic</td>\n",
       "      <td>1977</td>\n",
       "    </tr>\n",
       "    <tr>\n",
       "      <th>15812</th>\n",
       "      <td>909</td>\n",
       "      <td>the ascension</td>\n",
       "      <td>glenn branca</td>\n",
       "      <td>10.0</td>\n",
       "      <td>0</td>\n",
       "      <td>19</td>\n",
       "      <td>6</td>\n",
       "      <td>2003</td>\n",
       "      <td>acute</td>\n",
       "      <td>experimental</td>\n",
       "      <td>2003</td>\n",
       "    </tr>\n",
       "    <tr>\n",
       "      <th>16901</th>\n",
       "      <td>1615</td>\n",
       "      <td>this year's model</td>\n",
       "      <td>elvis costello &amp; the attractions</td>\n",
       "      <td>10.0</td>\n",
       "      <td>0</td>\n",
       "      <td>9</td>\n",
       "      <td>5</td>\n",
       "      <td>2002</td>\n",
       "      <td>columbia</td>\n",
       "      <td>unknown</td>\n",
       "      <td>1979</td>\n",
       "    </tr>\n",
       "    <tr>\n",
       "      <th>16956</th>\n",
       "      <td>8676</td>\n",
       "      <td>yankee hotel foxtrot</td>\n",
       "      <td>wilco</td>\n",
       "      <td>10.0</td>\n",
       "      <td>0</td>\n",
       "      <td>21</td>\n",
       "      <td>4</td>\n",
       "      <td>2002</td>\n",
       "      <td>nonesuch</td>\n",
       "      <td>rock</td>\n",
       "      <td>2002</td>\n",
       "    </tr>\n",
       "    <tr>\n",
       "      <th>17088</th>\n",
       "      <td>178</td>\n",
       "      <td>source tags and codes</td>\n",
       "      <td>...and you will know us by the trail of dead</td>\n",
       "      <td>10.0</td>\n",
       "      <td>0</td>\n",
       "      <td>28</td>\n",
       "      <td>2</td>\n",
       "      <td>2002</td>\n",
       "      <td>interscope</td>\n",
       "      <td>rock</td>\n",
       "      <td>2002</td>\n",
       "    </tr>\n",
       "    <tr>\n",
       "      <th>17429</th>\n",
       "      <td>1550</td>\n",
       "      <td>the olatunji concert: the last live recording</td>\n",
       "      <td>john coltrane</td>\n",
       "      <td>10.0</td>\n",
       "      <td>0</td>\n",
       "      <td>15</td>\n",
       "      <td>10</td>\n",
       "      <td>2001</td>\n",
       "      <td>impulse!</td>\n",
       "      <td>jazz</td>\n",
       "      <td>2001</td>\n",
       "    </tr>\n",
       "    <tr>\n",
       "      <th>17676</th>\n",
       "      <td>6656</td>\n",
       "      <td>kid a</td>\n",
       "      <td>radiohead</td>\n",
       "      <td>10.0</td>\n",
       "      <td>0</td>\n",
       "      <td>2</td>\n",
       "      <td>10</td>\n",
       "      <td>2000</td>\n",
       "      <td>capitol</td>\n",
       "      <td>rock</td>\n",
       "      <td>2000</td>\n",
       "    </tr>\n",
       "    <tr>\n",
       "      <th>17863</th>\n",
       "      <td>699</td>\n",
       "      <td>i see a darkness</td>\n",
       "      <td>bonnie prince billy</td>\n",
       "      <td>10.0</td>\n",
       "      <td>0</td>\n",
       "      <td>30</td>\n",
       "      <td>9</td>\n",
       "      <td>1999</td>\n",
       "      <td>palace</td>\n",
       "      <td>folk/country</td>\n",
       "      <td>1999</td>\n",
       "    </tr>\n",
       "  </tbody>\n",
       "</table>\n",
       "</div>"
      ],
      "text/plain": [
       "       reviewid                                              title  \\\n",
       "191       22374                                          metal box   \n",
       "200       22485                                blood on the tracks   \n",
       "354       22061                                another green world   \n",
       "450       22174                           songs in the key of life   \n",
       "529       22159                                         in concert   \n",
       "652       22053                                tonight's the night   \n",
       "704       21964                                     hounds of love   \n",
       "854       21845                                 sign \"o\" the times   \n",
       "855       21842                                               1999   \n",
       "858       21841                                        purple rain   \n",
       "859       21866                                         dirty mind   \n",
       "1089      21548                                       off the wall   \n",
       "1204      21487                                           \"heroes\"   \n",
       "1206      21478                                                low   \n",
       "1329      21158               a love supreme: the complete masters   \n",
       "1369      21218  people's instinctive travels and the paths of ...   \n",
       "1396      21092                                       astral weeks   \n",
       "1404      21220         loaded: re-loaded 45th anniversary edition   \n",
       "1843      20483                                     sticky fingers   \n",
       "2469      19997      it takes a nation of millions to hold us back   \n",
       "2474      20015  the velvet underground  45th anniversary super...   \n",
       "3209      19182                                         spiderland   \n",
       "3234      19240                                       the infamous   \n",
       "3525      18770                             white light/white heat   \n",
       "3845      18517                 in utero: 20th anniversary edition   \n",
       "4625      17499                                            rumours   \n",
       "4685      17497                                           illmatic   \n",
       "4710      17510                                donuts (45 box set)   \n",
       "4774      17407                                             voodoo   \n",
       "4849      17064                           the disintegration loops   \n",
       "5234      16857            liquid swords: chess box deluxe edition   \n",
       "5478      16605                                     isn't anything   \n",
       "5945      16075               tago mago [40th anniversary edition]   \n",
       "6068      16000                                 the smile sessions   \n",
       "6107      15957                                     laughing stock   \n",
       "6197      15854               nevermind [20th anniversary edition]   \n",
       "7069      14979                      emergency & i [vinyl reissue]   \n",
       "7164      14880                  my beautiful dark twisted fantasy   \n",
       "7706      14288                    disintegration [deluxe edition]   \n",
       "7781      14264                 exile on main st. [deluxe edition]   \n",
       "8039      14002                                quarantine the past   \n",
       "8059      13984  ladies and gentlemen we are floating in space ...   \n",
       "8582      13449                                    the stone roses   \n",
       "8587      13432                                        the beatles   \n",
       "8589      13431                                         abbey road   \n",
       "8592      13433                                        rubber soul   \n",
       "8593      13434                                           revolver   \n",
       "8594      13435              sgt. pepper's lonely hearts club band   \n",
       "8595      13436                               magical mystery tour   \n",
       "8602      13425                                         stereo box   \n",
       "8641      13385                  kid a: special collectors edition   \n",
       "8795      13130                         reckoning [deluxe edition]   \n",
       "9139      12852                          histoire de melody nelson   \n",
       "9278      12671                                    paul's boutique   \n",
       "9482      12464                            murmur [deluxe edition]   \n",
       "10141     11376  otis blue: otis redding sings soul [collector'...   \n",
       "10765     11624                                  unknown pleasures   \n",
       "11240     10326                    daydream nation: deluxe edition   \n",
       "12556     11866                                          pink flag   \n",
       "13087      7728              born to run: 30th anniversary edition   \n",
       "13274      5758                      in the aeroplane over the sea   \n",
       "13636      2377                   endtroducing... [deluxe edition]   \n",
       "14344      6200    crooked rain, crooked rain: la's desert origins   \n",
       "14463      1490    london calling: 25th anniversary legacy edition   \n",
       "14925       838                    music has the right to children   \n",
       "15008       976              live at the apollo [expanded edition]   \n",
       "15160      1969                 no thanks!: the 70s punk rebellion   \n",
       "15284     11853                                       marquee moon   \n",
       "15812       909                                      the ascension   \n",
       "16901      1615                                  this year's model   \n",
       "16956      8676                               yankee hotel foxtrot   \n",
       "17088       178                              source tags and codes   \n",
       "17429      1550      the olatunji concert: the last live recording   \n",
       "17676      6656                                              kid a   \n",
       "17863       699                                   i see a darkness   \n",
       "\n",
       "                                             artist  score  best_new_music  \\\n",
       "191                                public image ltd   10.0               1   \n",
       "200                                       bob dylan   10.0               0   \n",
       "354                                       brian eno   10.0               0   \n",
       "450                                   stevie wonder   10.0               0   \n",
       "529                                     nina simone   10.0               0   \n",
       "652                                      neil young   10.0               0   \n",
       "704                                       kate bush   10.0               0   \n",
       "854                                          prince   10.0               0   \n",
       "855                                          prince   10.0               0   \n",
       "858                          prince, the revolution   10.0               0   \n",
       "859                                          prince   10.0               0   \n",
       "1089                                michael jackson   10.0               1   \n",
       "1204                                    david bowie   10.0               0   \n",
       "1206                                    david bowie   10.0               0   \n",
       "1329                                  john coltrane   10.0               1   \n",
       "1369                           a tribe called quest   10.0               1   \n",
       "1396                                   van morrison   10.0               1   \n",
       "1404                         the velvet underground   10.0               1   \n",
       "1843                             the rolling stones   10.0               1   \n",
       "2469                                   public enemy   10.0               1   \n",
       "2474                         the velvet underground   10.0               1   \n",
       "3209                                          slint   10.0               1   \n",
       "3234                                      mobb deep   10.0               1   \n",
       "3525                         the velvet underground   10.0               1   \n",
       "3845                                        nirvana   10.0               1   \n",
       "4625                                  fleetwood mac   10.0               1   \n",
       "4685                                            nas   10.0               1   \n",
       "4710                                        j dilla   10.0               1   \n",
       "4774                                        dangelo   10.0               1   \n",
       "4849                               william basinski   10.0               1   \n",
       "5234                                            gza   10.0               1   \n",
       "5478                            my bloody valentine   10.0               1   \n",
       "5945                                            can   10.0               0   \n",
       "6068                                 the beach boys   10.0               1   \n",
       "6107                                      talk talk   10.0               1   \n",
       "6197                                        nirvana   10.0               0   \n",
       "7069                         the dismemberment plan   10.0               1   \n",
       "7164                                     kanye west   10.0               1   \n",
       "7706                                       the cure   10.0               1   \n",
       "7781                             the rolling stones   10.0               1   \n",
       "8039                                       pavement   10.0               1   \n",
       "8059                                  spiritualized   10.0               1   \n",
       "8582                                the stone roses   10.0               1   \n",
       "8587                                    the beatles   10.0               0   \n",
       "8589                                    the beatles   10.0               0   \n",
       "8592                                    the beatles   10.0               0   \n",
       "8593                                    the beatles   10.0               0   \n",
       "8594                                    the beatles   10.0               0   \n",
       "8595                                    the beatles   10.0               0   \n",
       "8602                                    the beatles   10.0               1   \n",
       "8641                                      radiohead   10.0               1   \n",
       "8795                                         r.e.m.   10.0               1   \n",
       "9139                               serge gainsbourg   10.0               1   \n",
       "9278                                   beastie boys   10.0               1   \n",
       "9482                                         r.e.m.   10.0               0   \n",
       "10141                                  otis redding   10.0               0   \n",
       "10765                                  joy division   10.0               0   \n",
       "11240                                   sonic youth   10.0               0   \n",
       "12556                                          wire   10.0               0   \n",
       "13087                             bruce springsteen   10.0               0   \n",
       "13274                            neutral milk hotel   10.0               0   \n",
       "13636                                     dj shadow   10.0               0   \n",
       "14344                                      pavement   10.0               0   \n",
       "14463                                     the clash   10.0               0   \n",
       "14925                              boards of canada   10.0               0   \n",
       "15008                                   james brown   10.0               0   \n",
       "15160                               various artists   10.0               0   \n",
       "15284                                    television   10.0               0   \n",
       "15812                                  glenn branca   10.0               0   \n",
       "16901              elvis costello & the attractions   10.0               0   \n",
       "16956                                         wilco   10.0               0   \n",
       "17088  ...and you will know us by the trail of dead   10.0               0   \n",
       "17429                                 john coltrane   10.0               0   \n",
       "17676                                     radiohead   10.0               0   \n",
       "17863                           bonnie prince billy   10.0               0   \n",
       "\n",
       "      pub_day pub_month pub_year                label         genre  year  \n",
       "191         1        11     2016            universal          rock  1979  \n",
       "200        30        10     2016             columbia          rock  1975  \n",
       "354        18         9     2016               island  experimental  1975  \n",
       "450        21         8     2016               motown       pop/r&b  1976  \n",
       "529        30         7     2016              philips          jazz  1964  \n",
       "652        26         6     2016              reprise          rock  1975  \n",
       "704        12         6     2016                  emi       pop/r&b  1985  \n",
       "854        30         4     2016         paisley park       pop/r&b  1987  \n",
       "855        30         4     2016         warner bros.       pop/r&b  1982  \n",
       "858        29         4     2016         warner bros.       pop/r&b  1984  \n",
       "859        29         4     2016         warner bros.       pop/r&b  1980  \n",
       "1089       24         2     2016               legacy       pop/r&b  1979  \n",
       "1204       22         1     2016                  rca          rock  1977  \n",
       "1206       22         1     2016                  rca          rock  1977  \n",
       "1329       25        11     2015                verve          jazz  2015  \n",
       "1369       13        11     2015               legacy           rap  1990  \n",
       "1396        6        11     2015         warner bros.          rock  1968  \n",
       "1404        4        11     2015             atlantic          rock  1970  \n",
       "1843       19         6     2015       rolling stones          rock  1971  \n",
       "2469       25        11     2014              def jam           rap  1988  \n",
       "2474       24        11     2014              polydor          rock  1969  \n",
       "3209       16         4     2014         touch and go          rock  1991  \n",
       "3234        9         4     2014        self-released           rap  1995  \n",
       "3525       16         1     2014            universal          rock  1968  \n",
       "3845       24         9     2013            universal          rock  1993  \n",
       "4625        8         2     2013                rhino          rock  1977  \n",
       "4685       23         1     2013          get on down           rap  1994  \n",
       "4710       16         1     2013         stones throw           rap  2006  \n",
       "4774       12        12     2012   light in the attic       pop/r&b  2000  \n",
       "4849       19        11     2012  temporary residence  experimental  2012  \n",
       "5234       27         7     2012   geffen/get on down           rap  1995  \n",
       "5478       11         5     2012                 sony  experimental  1988  \n",
       "5945        9        12     2011                 mute  experimental  1971  \n",
       "6068        2        11     2011              capitol          rock  2011  \n",
       "6107       21        10     2011          ba da bing!          rock  2011  \n",
       "6197       27         9     2011               geffen          rock  2011  \n",
       "7069       11         1     2011               barsuk          rock  2011  \n",
       "7164       22        11     2010              def jam           rap  2010  \n",
       "7706       10         6     2010                rhino          rock  2010  \n",
       "7781       19         5     2010            universal          rock  2010  \n",
       "8039        8         3     2010               domino          rock  2010  \n",
       "8059        2         3     2010                  atp  experimental  2009  \n",
       "8582       11         9     2009                 sony          rock  2009  \n",
       "8587       10         9     2009                  emi          rock  1968  \n",
       "8589       10         9     2009                  emi          rock  1969  \n",
       "8592        9         9     2009                  emi          rock  1965  \n",
       "8593        9         9     2009                  emi          rock  1966  \n",
       "8594        9         9     2009                  emi          rock  1967  \n",
       "8595        9         9     2009                  emi          rock  1967  \n",
       "8602        7         9     2009                  emi          rock  2009  \n",
       "8641       25         8     2009              capitol          rock  2009  \n",
       "8795        2         7     2009                  a&m          rock  2009  \n",
       "9139       26         3     2009   light in the attic       pop/r&b  1971  \n",
       "9278       13         2     2009              capitol           rap  1989  \n",
       "9482       24        11     2008                  irs          rock  2008  \n",
       "10141       9         5     2008                rhino       pop/r&b  1965  \n",
       "10765      29        10     2007              factory          rock  1979  \n",
       "11240      13         6     2007               enigma          rock  1988  \n",
       "12556       5         5     2006              harvest          rock  1977  \n",
       "13087      18        11     2005             columbia          rock  2005  \n",
       "13274      26         9     2005                merge          rock  1998  \n",
       "13636       9         6     2005               mo'wax    electronic  1996  \n",
       "14344      25        10     2004              matador          rock  1994  \n",
       "14463      21         9     2004                 epic          rock  2004  \n",
       "14925      26         4     2004                 warp    electronic  1998  \n",
       "15008      30         3     2004                 king          rock  1963  \n",
       "15160      10         2     2004                rhino       unknown  2004  \n",
       "15284       9        12     2003              elektra    electronic  1977  \n",
       "15812      19         6     2003                acute  experimental  2003  \n",
       "16901       9         5     2002             columbia       unknown  1979  \n",
       "16956      21         4     2002             nonesuch          rock  2002  \n",
       "17088      28         2     2002           interscope          rock  2002  \n",
       "17429      15        10     2001             impulse!          jazz  2001  \n",
       "17676       2        10     2000              capitol          rock  2000  \n",
       "17863      30         9     1999               palace  folk/country  1999  "
      ]
     },
     "execution_count": 282,
     "metadata": {},
     "output_type": "execute_result"
    }
   ],
   "source": [
    "# Which albums had perfect scores?\n",
    "\n",
    "df[df['score'] == 10]"
   ]
  },
  {
   "cell_type": "code",
   "execution_count": 283,
   "metadata": {},
   "outputs": [
    {
     "data": {
      "text/plain": [
       "0.4"
      ]
     },
     "execution_count": 283,
     "metadata": {},
     "output_type": "execute_result"
    }
   ],
   "source": [
    "# How many albums got perfect scores?\n",
    "\n",
    "round(len(df[df['score'] == 10])/len(df),3)*100"
   ]
  },
  {
   "cell_type": "markdown",
   "metadata": {},
   "source": [
    "Only 0.4% of albums!"
   ]
  },
  {
   "cell_type": "markdown",
   "metadata": {},
   "source": [
    "In my own analysis of music-listening behavior, I discovered that top-listening years were 2009, 2011, and 2013 for me. I\n",
    "wanted to see which albums were best-new music for Pitchfork in those years. "
   ]
  },
  {
   "cell_type": "code",
   "execution_count": 284,
   "metadata": {},
   "outputs": [
    {
     "data": {
      "text/html": [
       "<div>\n",
       "<style scoped>\n",
       "    .dataframe tbody tr th:only-of-type {\n",
       "        vertical-align: middle;\n",
       "    }\n",
       "\n",
       "    .dataframe tbody tr th {\n",
       "        vertical-align: top;\n",
       "    }\n",
       "\n",
       "    .dataframe thead th {\n",
       "        text-align: right;\n",
       "    }\n",
       "</style>\n",
       "<table border=\"1\" class=\"dataframe\">\n",
       "  <thead>\n",
       "    <tr style=\"text-align: right;\">\n",
       "      <th></th>\n",
       "      <th>reviewid</th>\n",
       "      <th>title</th>\n",
       "      <th>artist</th>\n",
       "      <th>score</th>\n",
       "      <th>best_new_music</th>\n",
       "      <th>pub_day</th>\n",
       "      <th>pub_month</th>\n",
       "      <th>pub_year</th>\n",
       "      <th>label</th>\n",
       "      <th>genre</th>\n",
       "      <th>year</th>\n",
       "    </tr>\n",
       "  </thead>\n",
       "  <tbody>\n",
       "    <tr>\n",
       "      <th>798</th>\n",
       "      <td>21869</td>\n",
       "      <td>happy songs for happy zombies</td>\n",
       "      <td>pinkshinyultrablast</td>\n",
       "      <td>6.9</td>\n",
       "      <td>0</td>\n",
       "      <td>17</td>\n",
       "      <td>5</td>\n",
       "      <td>2016</td>\n",
       "      <td>club ac30</td>\n",
       "      <td>rock</td>\n",
       "      <td>2009</td>\n",
       "    </tr>\n",
       "    <tr>\n",
       "      <th>3047</th>\n",
       "      <td>19402</td>\n",
       "      <td>midtown 120 blues</td>\n",
       "      <td>dj sprinkles</td>\n",
       "      <td>8.5</td>\n",
       "      <td>1</td>\n",
       "      <td>2</td>\n",
       "      <td>6</td>\n",
       "      <td>2014</td>\n",
       "      <td>comatonse</td>\n",
       "      <td>unknown</td>\n",
       "      <td>2009</td>\n",
       "    </tr>\n",
       "    <tr>\n",
       "      <th>4725</th>\n",
       "      <td>17504</td>\n",
       "      <td>rifts</td>\n",
       "      <td>oneohtrix point never</td>\n",
       "      <td>8.7</td>\n",
       "      <td>1</td>\n",
       "      <td>11</td>\n",
       "      <td>1</td>\n",
       "      <td>2013</td>\n",
       "      <td>mexican summer</td>\n",
       "      <td>experimental</td>\n",
       "      <td>2009</td>\n",
       "    </tr>\n",
       "    <tr>\n",
       "      <th>7621</th>\n",
       "      <td>14400</td>\n",
       "      <td>bonjour</td>\n",
       "      <td>rachid taha</td>\n",
       "      <td>7.5</td>\n",
       "      <td>0</td>\n",
       "      <td>7</td>\n",
       "      <td>7</td>\n",
       "      <td>2010</td>\n",
       "      <td>knitting factory</td>\n",
       "      <td>global</td>\n",
       "      <td>2009</td>\n",
       "    </tr>\n",
       "    <tr>\n",
       "      <th>7744</th>\n",
       "      <td>14218</td>\n",
       "      <td>me oh my</td>\n",
       "      <td>cate le bon</td>\n",
       "      <td>7.3</td>\n",
       "      <td>0</td>\n",
       "      <td>1</td>\n",
       "      <td>6</td>\n",
       "      <td>2010</td>\n",
       "      <td>control group</td>\n",
       "      <td>folk/country</td>\n",
       "      <td>2009</td>\n",
       "    </tr>\n",
       "  </tbody>\n",
       "</table>\n",
       "</div>"
      ],
      "text/plain": [
       "      reviewid                          title                 artist  score  \\\n",
       "798      21869  happy songs for happy zombies    pinkshinyultrablast    6.9   \n",
       "3047     19402              midtown 120 blues           dj sprinkles    8.5   \n",
       "4725     17504                          rifts  oneohtrix point never    8.7   \n",
       "7621     14400                        bonjour            rachid taha    7.5   \n",
       "7744     14218                       me oh my            cate le bon    7.3   \n",
       "\n",
       "      best_new_music pub_day pub_month pub_year             label  \\\n",
       "798                0      17         5     2016         club ac30   \n",
       "3047               1       2         6     2014         comatonse   \n",
       "4725               1      11         1     2013    mexican summer   \n",
       "7621               0       7         7     2010  knitting factory   \n",
       "7744               0       1         6     2010     control group   \n",
       "\n",
       "             genre  year  \n",
       "798           rock  2009  \n",
       "3047       unknown  2009  \n",
       "4725  experimental  2009  \n",
       "7621        global  2009  \n",
       "7744  folk/country  2009  "
      ]
     },
     "execution_count": 284,
     "metadata": {},
     "output_type": "execute_result"
    }
   ],
   "source": [
    "# 2009 \n",
    "pd.options.display.max_rows = 100\n",
    "df_2009 = df[df['year'] == 2009]\n",
    "df_2009[df_2009['best_new_music'] == 1]\n",
    "df_2009.head()"
   ]
  },
  {
   "cell_type": "markdown",
   "metadata": {},
   "source": [
    "**Interpretation**: Pitchfork also had Bat for Lashes - Two Suns and Fever Ray - Fever Ray in their list of best albums for 2009. These are some of my favorite albums. "
   ]
  },
  {
   "cell_type": "code",
   "execution_count": 285,
   "metadata": {},
   "outputs": [
    {
     "data": {
      "text/html": [
       "<div>\n",
       "<style scoped>\n",
       "    .dataframe tbody tr th:only-of-type {\n",
       "        vertical-align: middle;\n",
       "    }\n",
       "\n",
       "    .dataframe tbody tr th {\n",
       "        vertical-align: top;\n",
       "    }\n",
       "\n",
       "    .dataframe thead th {\n",
       "        text-align: right;\n",
       "    }\n",
       "</style>\n",
       "<table border=\"1\" class=\"dataframe\">\n",
       "  <thead>\n",
       "    <tr style=\"text-align: right;\">\n",
       "      <th></th>\n",
       "      <th>reviewid</th>\n",
       "      <th>title</th>\n",
       "      <th>artist</th>\n",
       "      <th>score</th>\n",
       "      <th>best_new_music</th>\n",
       "      <th>pub_day</th>\n",
       "      <th>pub_month</th>\n",
       "      <th>pub_year</th>\n",
       "      <th>label</th>\n",
       "      <th>genre</th>\n",
       "      <th>year</th>\n",
       "    </tr>\n",
       "  </thead>\n",
       "  <tbody>\n",
       "    <tr>\n",
       "      <th>691</th>\n",
       "      <td>22006</td>\n",
       "      <td>early recordings</td>\n",
       "      <td>waxahatchee</td>\n",
       "      <td>7.2</td>\n",
       "      <td>0</td>\n",
       "      <td>15</td>\n",
       "      <td>6</td>\n",
       "      <td>2016</td>\n",
       "      <td>merge</td>\n",
       "      <td>rock</td>\n",
       "      <td>2011</td>\n",
       "    </tr>\n",
       "    <tr>\n",
       "      <th>2164</th>\n",
       "      <td>20322</td>\n",
       "      <td>it never goes out</td>\n",
       "      <td>the hotelier</td>\n",
       "      <td>7.7</td>\n",
       "      <td>0</td>\n",
       "      <td>20</td>\n",
       "      <td>3</td>\n",
       "      <td>2015</td>\n",
       "      <td>tiny engines</td>\n",
       "      <td>rock</td>\n",
       "      <td>2011</td>\n",
       "    </tr>\n",
       "    <tr>\n",
       "      <th>2712</th>\n",
       "      <td>19803</td>\n",
       "      <td>vibe 2</td>\n",
       "      <td>various artists</td>\n",
       "      <td>7.8</td>\n",
       "      <td>0</td>\n",
       "      <td>16</td>\n",
       "      <td>9</td>\n",
       "      <td>2014</td>\n",
       "      <td>future times</td>\n",
       "      <td>unknown</td>\n",
       "      <td>2011</td>\n",
       "    </tr>\n",
       "    <tr>\n",
       "      <th>2746</th>\n",
       "      <td>19776</td>\n",
       "      <td>cowboy's prayer ep</td>\n",
       "      <td>mutual benefit</td>\n",
       "      <td>6.3</td>\n",
       "      <td>0</td>\n",
       "      <td>5</td>\n",
       "      <td>9</td>\n",
       "      <td>2014</td>\n",
       "      <td>other music</td>\n",
       "      <td>folk/country</td>\n",
       "      <td>2011</td>\n",
       "    </tr>\n",
       "    <tr>\n",
       "      <th>3207</th>\n",
       "      <td>19184</td>\n",
       "      <td>dizzy polizzy</td>\n",
       "      <td>purling hiss</td>\n",
       "      <td>7.5</td>\n",
       "      <td>0</td>\n",
       "      <td>17</td>\n",
       "      <td>4</td>\n",
       "      <td>2014</td>\n",
       "      <td>drag city</td>\n",
       "      <td>rock</td>\n",
       "      <td>2011</td>\n",
       "    </tr>\n",
       "  </tbody>\n",
       "</table>\n",
       "</div>"
      ],
      "text/plain": [
       "      reviewid               title           artist  score  best_new_music  \\\n",
       "691      22006    early recordings      waxahatchee    7.2               0   \n",
       "2164     20322   it never goes out     the hotelier    7.7               0   \n",
       "2712     19803              vibe 2  various artists    7.8               0   \n",
       "2746     19776  cowboy's prayer ep   mutual benefit    6.3               0   \n",
       "3207     19184       dizzy polizzy     purling hiss    7.5               0   \n",
       "\n",
       "     pub_day pub_month pub_year         label         genre  year  \n",
       "691       15         6     2016         merge          rock  2011  \n",
       "2164      20         3     2015  tiny engines          rock  2011  \n",
       "2712      16         9     2014  future times       unknown  2011  \n",
       "2746       5         9     2014   other music  folk/country  2011  \n",
       "3207      17         4     2014     drag city          rock  2011  "
      ]
     },
     "execution_count": 285,
     "metadata": {},
     "output_type": "execute_result"
    }
   ],
   "source": [
    "# 2011 \n",
    "\n",
    "df_2011 = df[df['year'] == 2011]\n",
    "df_2011[df_2011['best_new_music'] == 1]\n",
    "df_2011.head()"
   ]
  },
  {
   "cell_type": "markdown",
   "metadata": {},
   "source": [
    "**Interpretation**: PJ Harvey's Let England Shake nicely made the list, which I also liked a lot. Good to see St. Vincent's Strange Mercy in there as well. "
   ]
  },
  {
   "cell_type": "code",
   "execution_count": 286,
   "metadata": {},
   "outputs": [
    {
     "data": {
      "text/html": [
       "<div>\n",
       "<style scoped>\n",
       "    .dataframe tbody tr th:only-of-type {\n",
       "        vertical-align: middle;\n",
       "    }\n",
       "\n",
       "    .dataframe tbody tr th {\n",
       "        vertical-align: top;\n",
       "    }\n",
       "\n",
       "    .dataframe thead th {\n",
       "        text-align: right;\n",
       "    }\n",
       "</style>\n",
       "<table border=\"1\" class=\"dataframe\">\n",
       "  <thead>\n",
       "    <tr style=\"text-align: right;\">\n",
       "      <th></th>\n",
       "      <th>reviewid</th>\n",
       "      <th>title</th>\n",
       "      <th>artist</th>\n",
       "      <th>score</th>\n",
       "      <th>best_new_music</th>\n",
       "      <th>pub_day</th>\n",
       "      <th>pub_month</th>\n",
       "      <th>pub_year</th>\n",
       "      <th>label</th>\n",
       "      <th>genre</th>\n",
       "      <th>year</th>\n",
       "    </tr>\n",
       "  </thead>\n",
       "  <tbody>\n",
       "    <tr>\n",
       "      <th>1267</th>\n",
       "      <td>21368</td>\n",
       "      <td>t r i s h ep</td>\n",
       "      <td>odd nosdam</td>\n",
       "      <td>6.8</td>\n",
       "      <td>0</td>\n",
       "      <td>6</td>\n",
       "      <td>1</td>\n",
       "      <td>2016</td>\n",
       "      <td>sonic cathedral</td>\n",
       "      <td>rap</td>\n",
       "      <td>2013</td>\n",
       "    </tr>\n",
       "    <tr>\n",
       "      <th>3149</th>\n",
       "      <td>19295</td>\n",
       "      <td>a letter home</td>\n",
       "      <td>neil young</td>\n",
       "      <td>6.3</td>\n",
       "      <td>0</td>\n",
       "      <td>2</td>\n",
       "      <td>5</td>\n",
       "      <td>2014</td>\n",
       "      <td>third man</td>\n",
       "      <td>rock</td>\n",
       "      <td>2013</td>\n",
       "    </tr>\n",
       "    <tr>\n",
       "      <th>3357</th>\n",
       "      <td>18881</td>\n",
       "      <td>three seashells</td>\n",
       "      <td>lakutis</td>\n",
       "      <td>6.7</td>\n",
       "      <td>0</td>\n",
       "      <td>6</td>\n",
       "      <td>3</td>\n",
       "      <td>2014</td>\n",
       "      <td>greedhead</td>\n",
       "      <td>rap</td>\n",
       "      <td>2013</td>\n",
       "    </tr>\n",
       "    <tr>\n",
       "      <th>3406</th>\n",
       "      <td>19026</td>\n",
       "      <td>acid arab collections</td>\n",
       "      <td>various artists</td>\n",
       "      <td>6.8</td>\n",
       "      <td>0</td>\n",
       "      <td>20</td>\n",
       "      <td>2</td>\n",
       "      <td>2014</td>\n",
       "      <td>versatile</td>\n",
       "      <td>unknown</td>\n",
       "      <td>2013</td>\n",
       "    </tr>\n",
       "    <tr>\n",
       "      <th>3438</th>\n",
       "      <td>18982</td>\n",
       "      <td>soak</td>\n",
       "      <td>foetus</td>\n",
       "      <td>6.9</td>\n",
       "      <td>0</td>\n",
       "      <td>11</td>\n",
       "      <td>2</td>\n",
       "      <td>2014</td>\n",
       "      <td>ectopic</td>\n",
       "      <td>electronic</td>\n",
       "      <td>2013</td>\n",
       "    </tr>\n",
       "  </tbody>\n",
       "</table>\n",
       "</div>"
      ],
      "text/plain": [
       "      reviewid                  title           artist  score  best_new_music  \\\n",
       "1267     21368           t r i s h ep       odd nosdam    6.8               0   \n",
       "3149     19295          a letter home       neil young    6.3               0   \n",
       "3357     18881        three seashells          lakutis    6.7               0   \n",
       "3406     19026  acid arab collections  various artists    6.8               0   \n",
       "3438     18982                   soak           foetus    6.9               0   \n",
       "\n",
       "     pub_day pub_month pub_year            label       genre  year  \n",
       "1267       6         1     2016  sonic cathedral         rap  2013  \n",
       "3149       2         5     2014        third man        rock  2013  \n",
       "3357       6         3     2014        greedhead         rap  2013  \n",
       "3406      20         2     2014        versatile     unknown  2013  \n",
       "3438      11         2     2014          ectopic  electronic  2013  "
      ]
     },
     "execution_count": 286,
     "metadata": {},
     "output_type": "execute_result"
    }
   ],
   "source": [
    "# 2013 \n",
    "\n",
    "df_2013 = df[df['year'] == 2013]\n",
    "df_2013[df_2013['best_new_music'] == 1]\n",
    "df_2013.head()"
   ]
  },
  {
   "cell_type": "markdown",
   "metadata": {},
   "source": [
    "**Interpretation**: Several nice ones in here as well, including Janelle Monae, Julia Holter, Rhye, and Disclosure, though I strongly disagree on The Knife's Shaking the Habitual. "
   ]
  }
 ],
 "metadata": {
  "kernelspec": {
   "display_name": "Python 2",
   "language": "python",
   "name": "python2"
  },
  "language_info": {
   "codemirror_mode": {
    "name": "ipython",
    "version": 2
   },
   "file_extension": ".py",
   "mimetype": "text/x-python",
   "name": "python",
   "nbconvert_exporter": "python",
   "pygments_lexer": "ipython2",
   "version": "2.7.15"
  }
 },
 "nbformat": 4,
 "nbformat_minor": 2
}
